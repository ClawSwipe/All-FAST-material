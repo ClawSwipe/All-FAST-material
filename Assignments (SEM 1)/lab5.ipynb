{
  "nbformat": 4,
  "nbformat_minor": 0,
  "metadata": {
    "colab": {
      "name": "Untitled7.ipynb",
      "provenance": []
    },
    "kernelspec": {
      "name": "python3",
      "display_name": "Python 3"
    },
    "language_info": {
      "name": "python"
    }
  },
  "cells": [
    {
      "cell_type": "code",
      "metadata": {
        "colab": {
          "base_uri": "https://localhost:8080/"
        },
        "id": "_A1WZpcOuqCI",
        "outputId": "2a461c92-b691-4232-8c29-613d5be19c83"
      },
      "source": [
        "import numpy as np\n",
        "A=np.array([2,0,3])\n",
        "B=np.array([4,-3,6])\n",
        "adotb=np.dot(A,B)\n",
        "maga=np.linalg.norm(A)\n",
        "magb=np.linalg.norm(B)\n",
        "temp=(adotb/(maga*magb))\n",
        "angle=np.arccos(temp)\n",
        "ans=np.degrees(angle)\n",
        "print(\"The angle between A and B is:\",ans)"
      ],
      "execution_count": 1,
      "outputs": [
        {
          "output_type": "stream",
          "name": "stdout",
          "text": [
            "The angle between A and B is: 22.588538787984852\n"
          ]
        }
      ]
    },
    {
      "cell_type": "code",
      "metadata": {
        "colab": {
          "base_uri": "https://localhost:8080/"
        },
        "id": "grs2HNZ-vuug",
        "outputId": "44118c2b-5982-4d21-8e08-4303d7787f01"
      },
      "source": [
        "import math as m\n",
        "A=np.array([3,-4])\n",
        "an=m.atan(A[0]/A[1])\n",
        "Ax=A[0]*np.cos(an)\n",
        "Ay=A[1]*np.sin(an)\n",
        "Ax,Ay"
      ],
      "execution_count": 15,
      "outputs": [
        {
          "output_type": "execute_result",
          "data": {
            "text/plain": [
              "(2.4000000000000004, 2.4)"
            ]
          },
          "metadata": {},
          "execution_count": 15
        }
      ]
    },
    {
      "cell_type": "code",
      "metadata": {
        "colab": {
          "base_uri": "https://localhost:8080/"
        },
        "id": "mnMpkFqmwPk4",
        "outputId": "26c3f86f-c8e8-42b0-ff09-dcd60a109b30"
      },
      "source": [
        "A=np.array([5,6,5])\n",
        "xcos=A[0]/(np.linalg.norm(A))\n",
        "x=np.arccos(xcos)\n",
        "ansx=np.degrees(x)\n",
        "\n",
        "ycos=A[1]/(np.linalg.norm(A))\n",
        "y=np.arccos(ycos)\n",
        "ansy=np.degrees(y)\n",
        "\n",
        "zcos=A[2]/(np.linalg.norm(A))\n",
        "z=np.arccos(zcos)\n",
        "ansz=np.degrees(z)\n",
        "\n",
        "print(\"The angle with X is \",ansx)\n",
        "print(\"The angle with Y is \",ansy)\n",
        "print(\"The angle with Z is \",ansz)"
      ],
      "execution_count": 9,
      "outputs": [
        {
          "output_type": "stream",
          "name": "stdout",
          "text": [
            "The angle with X is  57.37326229346893\n",
            "The angle with Y is  49.68445778922742\n",
            "The angle with Z is  57.37326229346893\n"
          ]
        }
      ]
    },
    {
      "cell_type": "code",
      "metadata": {
        "colab": {
          "base_uri": "https://localhost:8080/"
        },
        "id": "1iU4eEdNxVd0",
        "outputId": "ddea09fa-2653-47cc-bbc4-0e06045e063c"
      },
      "source": [
        "A=np.array([2,0,3])\n",
        "B=np.array([4,-3,6])\n",
        "dot=np.dot(A,B)\n",
        "cross=np.cross(A,B)\n",
        "print(\"The dot product is\",dot)\n",
        "print(\"The cross product is\",cross)"
      ],
      "execution_count": 12,
      "outputs": [
        {
          "output_type": "stream",
          "name": "stdout",
          "text": [
            "The dot product is 26\n",
            "The cross product is [ 9  0 -6]\n"
          ]
        }
      ]
    },
    {
      "cell_type": "code",
      "metadata": {
        "colab": {
          "base_uri": "https://localhost:8080/"
        },
        "id": "ZrkdPgzHx337",
        "outputId": "b7d7be54-2719-4f1b-ac6c-20fadcd36829"
      },
      "source": [
        "import math as m\n",
        "Force=12\n",
        "mass=8\n",
        "g=9.8\n",
        "mg=mass*g\n",
        "ustatic=0.7\n",
        "ukinetic=0.4\n",
        "angle=30\n",
        "FX=Force*(m.cos(angle))\n",
        "FY=Force*(m.sin(angle)) \n",
        "R=mg+FY\n",
        "Statfric=R*ustatic\n",
        "Kinfric=R*ukinetic\n",
        "if(FX>Statfric):\n",
        "  print(\"Block is sliding\")\n",
        "else:\n",
        "  print(\"Block is stationary\")"
      ],
      "execution_count": 21,
      "outputs": [
        {
          "output_type": "stream",
          "name": "stdout",
          "text": [
            "Block is stationary\n"
          ]
        }
      ]
    },
    {
      "cell_type": "code",
      "metadata": {
        "colab": {
          "base_uri": "https://localhost:8080/"
        },
        "id": "iKyCj3qp3fK0",
        "outputId": "623a6b49-23e2-4e1f-ba62-308ea2eefe4a"
      },
      "source": [
        "import math as m\n",
        "\n",
        "A=44\n",
        "B=22\n",
        "g=9.81\n",
        "ustatic=0.2\n",
        "ukinetic=0.15\n",
        "\n",
        "\n",
        "\n",
        "W=((B-(A*ustatic))/ustatic)\n",
        "\n",
        "print(\"The weight is\",W )\n",
        "\n",
        "\n"
      ],
      "execution_count": 26,
      "outputs": [
        {
          "output_type": "stream",
          "name": "stdout",
          "text": [
            "The weight is 65.99999999999999\n"
          ]
        }
      ]
    },
    {
      "cell_type": "code",
      "metadata": {
        "colab": {
          "base_uri": "https://localhost:8080/"
        },
        "id": "86_kP8EA5ozB",
        "outputId": "4a038dc1-cfe4-4256-cc93-313ef52b8725"
      },
      "source": [
        "Kinfric=A*ukinetic\n",
        "\n",
        "ma=A/g\n",
        "mb=B/g\n",
        "\n",
        "acc=((B-Kinfric)/(ma+mb))\n",
        "\n",
        "print(\"The weight is\",acc)"
      ],
      "execution_count": 25,
      "outputs": [
        {
          "output_type": "stream",
          "name": "stdout",
          "text": [
            "The weight is 2.289\n"
          ]
        }
      ]
    }
  ]
}