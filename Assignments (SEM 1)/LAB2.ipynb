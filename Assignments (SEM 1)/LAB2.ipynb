{
  "nbformat": 4,
  "nbformat_minor": 0,
  "metadata": {
    "colab": {
      "name": "LAB2.ipynb",
      "provenance": [],
      "collapsed_sections": []
    },
    "kernelspec": {
      "name": "python3",
      "display_name": "Python 3"
    },
    "language_info": {
      "name": "python"
    }
  },
  "cells": [
    {
      "cell_type": "code",
      "metadata": {
        "colab": {
          "base_uri": "https://localhost:8080/"
        },
        "id": "M65DgZPUygep",
        "outputId": "9aa321d8-ab3c-41d3-f388-c8726252aa22"
      },
      "source": [
        "color_list=[\"Red\",\"Green\",\"White\",\"Black\"]\n",
        "color_list[0]+\" \",color_list[3]\n"
      ],
      "execution_count": 38,
      "outputs": [
        {
          "output_type": "execute_result",
          "data": {
            "text/plain": [
              "('Red ', 'Black')"
            ]
          },
          "metadata": {},
          "execution_count": 38
        }
      ]
    },
    {
      "cell_type": "code",
      "metadata": {
        "colab": {
          "base_uri": "https://localhost:8080/"
        },
        "id": "-6YapGsuyj_3",
        "outputId": "745fb09f-aa8a-4563-9353-0e2ccc914908"
      },
      "source": [
        "n=int(input(\"Enter an integer n\"))\n",
        "(n+(n*n)+(n*n*n))"
      ],
      "execution_count": 36,
      "outputs": [
        {
          "name": "stdout",
          "output_type": "stream",
          "text": [
            "Enter an integer n3\n"
          ]
        },
        {
          "output_type": "execute_result",
          "data": {
            "text/plain": [
              "39"
            ]
          },
          "metadata": {},
          "execution_count": 36
        }
      ]
    },
    {
      "cell_type": "code",
      "metadata": {
        "colab": {
          "base_uri": "https://localhost:8080/"
        },
        "id": "ZGwI0h513qFK",
        "outputId": "b1298149-63f9-4004-e58c-2e39ebcbb260"
      },
      "source": [
        "num=[0 for i in range(10)]\n",
        "count=int(input(\"Enter the amount of numbers you want in your list\"))\n",
        "for j in range(count):\n",
        "  x=int(input(\"Enter a number\"))\n",
        "  num.append(x)\n",
        "  add=sum(num)\n",
        "add"
      ],
      "execution_count": 75,
      "outputs": [
        {
          "name": "stdout",
          "output_type": "stream",
          "text": [
            "Enter the amount of numbers you want in your list2\n",
            "Enter a number2\n",
            "Enter a number2\n"
          ]
        },
        {
          "output_type": "execute_result",
          "data": {
            "text/plain": [
              "4"
            ]
          },
          "metadata": {},
          "execution_count": 75
        }
      ]
    }
  ]
}