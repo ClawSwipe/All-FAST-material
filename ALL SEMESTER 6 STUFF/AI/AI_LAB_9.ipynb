{
  "nbformat": 4,
  "nbformat_minor": 0,
  "metadata": {
    "colab": {
      "provenance": []
    },
    "kernelspec": {
      "name": "python3",
      "display_name": "Python 3"
    },
    "language_info": {
      "name": "python"
    }
  },
  "cells": [
    {
      "cell_type": "code",
      "execution_count": 14,
      "metadata": {
        "colab": {
          "base_uri": "https://localhost:8080/"
        },
        "id": "N_G596vE8ax1",
        "outputId": "d6a2464e-9d82-4c16-ef36-568ced3ff02e"
      },
      "outputs": [
        {
          "output_type": "stream",
          "name": "stdout",
          "text": [
            "Accuracy: 0.956140350877193\n",
            "\n",
            "Classification Report:\n",
            "              precision    recall  f1-score   support\n",
            "\n",
            "   malignant       0.97      0.91      0.94        43\n",
            "      benign       0.95      0.99      0.97        71\n",
            "\n",
            "    accuracy                           0.96       114\n",
            "   macro avg       0.96      0.95      0.95       114\n",
            "weighted avg       0.96      0.96      0.96       114\n",
            "\n"
          ]
        }
      ],
      "source": [
        "#Task1\n",
        "\n",
        "from sklearn.datasets import load_breast_cancer\n",
        "from sklearn.model_selection import train_test_split\n",
        "from sklearn.linear_model import LogisticRegression\n",
        "from sklearn.metrics import accuracy_score, classification_report\n",
        "\n",
        "data = load_breast_cancer()\n",
        "\n",
        "# Split the dataset into training and testing sets\n",
        "X_train, X_test, y_train, y_test = train_test_split(data.data, data.target, test_size=0.2, random_state=42)\n",
        "\n",
        "# Initialize the Logistic Regression model\n",
        "model = LogisticRegression(max_iter=10000)\n",
        "\n",
        "# Train the model\n",
        "model.fit(X_train, y_train)\n",
        "\n",
        "# Predictions on the test set\n",
        "y_pred = model.predict(X_test)\n",
        "\n",
        "# Evaluate the model's accuracy\n",
        "accuracy = accuracy_score(y_test, y_pred)\n",
        "print(\"Accuracy:\", accuracy)\n",
        "\n",
        "print(\"\\nClassification Report:\")\n",
        "print(classification_report(y_test, y_pred, target_names=data.target_names))\n"
      ]
    },
    {
      "cell_type": "code",
      "source": [
        "from sklearn.datasets import load_iris\n",
        "from sklearn.model_selection import train_test_split, GridSearchCV\n",
        "from sklearn.svm import SVC\n",
        "from sklearn.metrics import accuracy_score\n",
        "\n",
        "# Load the Iris dataset\n",
        "data = load_iris()\n",
        "X = data.data\n",
        "y = data.target\n",
        "\n",
        "# Split the dataset into training and testing sets\n",
        "X_train, X_test, y_train, y_test = train_test_split(X, y, test_size=0.2, random_state=42)\n",
        "\n",
        "svm = SVC()\n",
        "\n",
        "# Define the hyperparameters to tune\n",
        "param_grid = {'C': [0.1, 1, 10, 100], 'gamma': [1, 0.1, 0.01, 0.001], 'kernel': ['rbf', 'linear', 'poly', 'sigmoid']}\n",
        "\n",
        "# Perform GridSearchCV for hyperparameter tuning\n",
        "grid_search = GridSearchCV(svm, param_grid, cv=5)\n",
        "grid_search.fit(X_train, y_train)\n",
        "\n",
        "# Get the best hyperparameters\n",
        "best_params = grid_search.best_params_\n",
        "print(\"Best Hyperparameters:\", best_params)\n",
        "\n",
        "# Evaluate the tuned model on the test set\n",
        "y_pred_tuned = grid_search.predict(X_test)\n",
        "accuracy_tuned = accuracy_score(y_test, y_pred_tuned)\n",
        "print(\"Accuracy of Tuned Model:\", accuracy_tuned)\n",
        "\n",
        "# Initialize and train the default SVM model\n",
        "default_svm = SVC()\n",
        "default_svm.fit(X_train, y_train)\n",
        "\n",
        "# Evaluate the default model on the test set\n",
        "y_pred_default = default_svm.predict(X_test)\n",
        "accuracy_default = accuracy_score(y_test, y_pred_default)\n",
        "print(\"Accuracy of Default Model:\", accuracy_default)\n"
      ],
      "metadata": {
        "colab": {
          "base_uri": "https://localhost:8080/"
        },
        "id": "8SskUAx69vYr",
        "outputId": "6d2af90b-30c1-4e02-8f4b-4f5bf2ad6391"
      },
      "execution_count": 20,
      "outputs": [
        {
          "output_type": "stream",
          "name": "stdout",
          "text": [
            "Best Hyperparameters: {'C': 0.1, 'gamma': 0.1, 'kernel': 'poly'}\n",
            "Accuracy of Tuned Model: 1.0\n",
            "Accuracy of Default Model: 1.0\n"
          ]
        }
      ]
    },
    {
      "cell_type": "code",
      "source": [
        "from sklearn.datasets import load_iris\n",
        "from sklearn.model_selection import train_test_split\n",
        "from sklearn.ensemble import RandomForestClassifier\n",
        "from sklearn.tree import DecisionTreeClassifier\n",
        "from sklearn.metrics import accuracy_score\n",
        "\n",
        "# Load the Iris dataset\n",
        "data = load_iris()\n",
        "X = data.data\n",
        "y = data.target\n",
        "\n",
        "# Split the dataset into training and testing sets\n",
        "X_train, X_test, y_train, y_test = train_test_split(X, y, test_size=0.2, random_state=42)\n",
        "\n",
        "tree_model = DecisionTreeClassifier(random_state=42)\n",
        "forest_model = RandomForestClassifier(random_state=42)\n",
        "\n",
        "# Train individual base models\n",
        "tree_model.fit(X_train, y_train)\n",
        "forest_model.fit(X_train, y_train)\n",
        "\n",
        "# Make predictions using individual base models\n",
        "y_pred_tree = tree_model.predict(X_test)\n",
        "y_pred_forest = forest_model.predict(X_test)\n",
        "\n",
        "accuracy_tree = accuracy_score(y_test, y_pred_tree)\n",
        "accuracy_forest = accuracy_score(y_test, y_pred_forest)\n",
        "\n",
        "print(\"Accuracy of Decision Tree:\", accuracy_tree)\n",
        "print(\"Accuracy of Random Forest:\", accuracy_forest)\n",
        "\n",
        "# Initialize and train the ensemble model (Random Forest)\n",
        "ensemble_model = RandomForestClassifier(random_state=42)\n",
        "ensemble_model.fit(X_train, y_train)\n",
        "\n",
        "# Make predictions using the ensemble model\n",
        "y_pred_ensemble = ensemble_model.predict(X_test)\n",
        "\n",
        "# Evaluate the ensemble model\n",
        "accuracy_ensemble = accuracy_score(y_test, y_pred_ensemble)\n",
        "print(\"Accuracy of Random Forest (Ensemble):\", accuracy_ensemble)\n"
      ],
      "metadata": {
        "colab": {
          "base_uri": "https://localhost:8080/"
        },
        "id": "5toVr9aF-P8H",
        "outputId": "099f4482-d601-4b09-b087-b23962fe09f0"
      },
      "execution_count": 19,
      "outputs": [
        {
          "output_type": "stream",
          "name": "stdout",
          "text": [
            "Accuracy of Decision Tree: 1.0\n",
            "Accuracy of Random Forest: 1.0\n",
            "Accuracy of Random Forest (Ensemble): 1.0\n"
          ]
        }
      ]
    },
    {
      "cell_type": "code",
      "source": [
        "!pip install kaggle"
      ],
      "metadata": {
        "colab": {
          "base_uri": "https://localhost:8080/"
        },
        "id": "-09JfRmkBewH",
        "outputId": "d42c69e4-5697-481e-baef-7a9d09d75a9f"
      },
      "execution_count": 22,
      "outputs": [
        {
          "output_type": "stream",
          "name": "stdout",
          "text": [
            "Requirement already satisfied: kaggle in /usr/local/lib/python3.10/dist-packages (1.6.12)\n",
            "Requirement already satisfied: six>=1.10 in /usr/local/lib/python3.10/dist-packages (from kaggle) (1.16.0)\n",
            "Requirement already satisfied: certifi>=2023.7.22 in /usr/local/lib/python3.10/dist-packages (from kaggle) (2024.2.2)\n",
            "Requirement already satisfied: python-dateutil in /usr/local/lib/python3.10/dist-packages (from kaggle) (2.8.2)\n",
            "Requirement already satisfied: requests in /usr/local/lib/python3.10/dist-packages (from kaggle) (2.31.0)\n",
            "Requirement already satisfied: tqdm in /usr/local/lib/python3.10/dist-packages (from kaggle) (4.66.2)\n",
            "Requirement already satisfied: python-slugify in /usr/local/lib/python3.10/dist-packages (from kaggle) (8.0.4)\n",
            "Requirement already satisfied: urllib3 in /usr/local/lib/python3.10/dist-packages (from kaggle) (2.0.7)\n",
            "Requirement already satisfied: bleach in /usr/local/lib/python3.10/dist-packages (from kaggle) (6.1.0)\n",
            "Requirement already satisfied: webencodings in /usr/local/lib/python3.10/dist-packages (from bleach->kaggle) (0.5.1)\n",
            "Requirement already satisfied: text-unidecode>=1.3 in /usr/local/lib/python3.10/dist-packages (from python-slugify->kaggle) (1.3)\n",
            "Requirement already satisfied: charset-normalizer<4,>=2 in /usr/local/lib/python3.10/dist-packages (from requests->kaggle) (3.3.2)\n",
            "Requirement already satisfied: idna<4,>=2.5 in /usr/local/lib/python3.10/dist-packages (from requests->kaggle) (3.7)\n"
          ]
        }
      ]
    },
    {
      "cell_type": "code",
      "source": [
        "from google.colab import files\n",
        "# Upload kaggle.json file\n",
        "uploaded = files.upload()"
      ],
      "metadata": {
        "colab": {
          "base_uri": "https://localhost:8080/",
          "height": 38
        },
        "id": "pw0HyNFXBfXb",
        "outputId": "4675ea24-25cf-42a4-f048-8c38ddb2f078"
      },
      "execution_count": 23,
      "outputs": [
        {
          "output_type": "display_data",
          "data": {
            "text/plain": [
              "<IPython.core.display.HTML object>"
            ],
            "text/html": [
              "\n",
              "     <input type=\"file\" id=\"files-6cd86cfc-4629-4ce7-818e-16d3cb9ce435\" name=\"files[]\" multiple disabled\n",
              "        style=\"border:none\" />\n",
              "     <output id=\"result-6cd86cfc-4629-4ce7-818e-16d3cb9ce435\">\n",
              "      Upload widget is only available when the cell has been executed in the\n",
              "      current browser session. Please rerun this cell to enable.\n",
              "      </output>\n",
              "      <script>// Copyright 2017 Google LLC\n",
              "//\n",
              "// Licensed under the Apache License, Version 2.0 (the \"License\");\n",
              "// you may not use this file except in compliance with the License.\n",
              "// You may obtain a copy of the License at\n",
              "//\n",
              "//      http://www.apache.org/licenses/LICENSE-2.0\n",
              "//\n",
              "// Unless required by applicable law or agreed to in writing, software\n",
              "// distributed under the License is distributed on an \"AS IS\" BASIS,\n",
              "// WITHOUT WARRANTIES OR CONDITIONS OF ANY KIND, either express or implied.\n",
              "// See the License for the specific language governing permissions and\n",
              "// limitations under the License.\n",
              "\n",
              "/**\n",
              " * @fileoverview Helpers for google.colab Python module.\n",
              " */\n",
              "(function(scope) {\n",
              "function span(text, styleAttributes = {}) {\n",
              "  const element = document.createElement('span');\n",
              "  element.textContent = text;\n",
              "  for (const key of Object.keys(styleAttributes)) {\n",
              "    element.style[key] = styleAttributes[key];\n",
              "  }\n",
              "  return element;\n",
              "}\n",
              "\n",
              "// Max number of bytes which will be uploaded at a time.\n",
              "const MAX_PAYLOAD_SIZE = 100 * 1024;\n",
              "\n",
              "function _uploadFiles(inputId, outputId) {\n",
              "  const steps = uploadFilesStep(inputId, outputId);\n",
              "  const outputElement = document.getElementById(outputId);\n",
              "  // Cache steps on the outputElement to make it available for the next call\n",
              "  // to uploadFilesContinue from Python.\n",
              "  outputElement.steps = steps;\n",
              "\n",
              "  return _uploadFilesContinue(outputId);\n",
              "}\n",
              "\n",
              "// This is roughly an async generator (not supported in the browser yet),\n",
              "// where there are multiple asynchronous steps and the Python side is going\n",
              "// to poll for completion of each step.\n",
              "// This uses a Promise to block the python side on completion of each step,\n",
              "// then passes the result of the previous step as the input to the next step.\n",
              "function _uploadFilesContinue(outputId) {\n",
              "  const outputElement = document.getElementById(outputId);\n",
              "  const steps = outputElement.steps;\n",
              "\n",
              "  const next = steps.next(outputElement.lastPromiseValue);\n",
              "  return Promise.resolve(next.value.promise).then((value) => {\n",
              "    // Cache the last promise value to make it available to the next\n",
              "    // step of the generator.\n",
              "    outputElement.lastPromiseValue = value;\n",
              "    return next.value.response;\n",
              "  });\n",
              "}\n",
              "\n",
              "/**\n",
              " * Generator function which is called between each async step of the upload\n",
              " * process.\n",
              " * @param {string} inputId Element ID of the input file picker element.\n",
              " * @param {string} outputId Element ID of the output display.\n",
              " * @return {!Iterable<!Object>} Iterable of next steps.\n",
              " */\n",
              "function* uploadFilesStep(inputId, outputId) {\n",
              "  const inputElement = document.getElementById(inputId);\n",
              "  inputElement.disabled = false;\n",
              "\n",
              "  const outputElement = document.getElementById(outputId);\n",
              "  outputElement.innerHTML = '';\n",
              "\n",
              "  const pickedPromise = new Promise((resolve) => {\n",
              "    inputElement.addEventListener('change', (e) => {\n",
              "      resolve(e.target.files);\n",
              "    });\n",
              "  });\n",
              "\n",
              "  const cancel = document.createElement('button');\n",
              "  inputElement.parentElement.appendChild(cancel);\n",
              "  cancel.textContent = 'Cancel upload';\n",
              "  const cancelPromise = new Promise((resolve) => {\n",
              "    cancel.onclick = () => {\n",
              "      resolve(null);\n",
              "    };\n",
              "  });\n",
              "\n",
              "  // Wait for the user to pick the files.\n",
              "  const files = yield {\n",
              "    promise: Promise.race([pickedPromise, cancelPromise]),\n",
              "    response: {\n",
              "      action: 'starting',\n",
              "    }\n",
              "  };\n",
              "\n",
              "  cancel.remove();\n",
              "\n",
              "  // Disable the input element since further picks are not allowed.\n",
              "  inputElement.disabled = true;\n",
              "\n",
              "  if (!files) {\n",
              "    return {\n",
              "      response: {\n",
              "        action: 'complete',\n",
              "      }\n",
              "    };\n",
              "  }\n",
              "\n",
              "  for (const file of files) {\n",
              "    const li = document.createElement('li');\n",
              "    li.append(span(file.name, {fontWeight: 'bold'}));\n",
              "    li.append(span(\n",
              "        `(${file.type || 'n/a'}) - ${file.size} bytes, ` +\n",
              "        `last modified: ${\n",
              "            file.lastModifiedDate ? file.lastModifiedDate.toLocaleDateString() :\n",
              "                                    'n/a'} - `));\n",
              "    const percent = span('0% done');\n",
              "    li.appendChild(percent);\n",
              "\n",
              "    outputElement.appendChild(li);\n",
              "\n",
              "    const fileDataPromise = new Promise((resolve) => {\n",
              "      const reader = new FileReader();\n",
              "      reader.onload = (e) => {\n",
              "        resolve(e.target.result);\n",
              "      };\n",
              "      reader.readAsArrayBuffer(file);\n",
              "    });\n",
              "    // Wait for the data to be ready.\n",
              "    let fileData = yield {\n",
              "      promise: fileDataPromise,\n",
              "      response: {\n",
              "        action: 'continue',\n",
              "      }\n",
              "    };\n",
              "\n",
              "    // Use a chunked sending to avoid message size limits. See b/62115660.\n",
              "    let position = 0;\n",
              "    do {\n",
              "      const length = Math.min(fileData.byteLength - position, MAX_PAYLOAD_SIZE);\n",
              "      const chunk = new Uint8Array(fileData, position, length);\n",
              "      position += length;\n",
              "\n",
              "      const base64 = btoa(String.fromCharCode.apply(null, chunk));\n",
              "      yield {\n",
              "        response: {\n",
              "          action: 'append',\n",
              "          file: file.name,\n",
              "          data: base64,\n",
              "        },\n",
              "      };\n",
              "\n",
              "      let percentDone = fileData.byteLength === 0 ?\n",
              "          100 :\n",
              "          Math.round((position / fileData.byteLength) * 100);\n",
              "      percent.textContent = `${percentDone}% done`;\n",
              "\n",
              "    } while (position < fileData.byteLength);\n",
              "  }\n",
              "\n",
              "  // All done.\n",
              "  yield {\n",
              "    response: {\n",
              "      action: 'complete',\n",
              "    }\n",
              "  };\n",
              "}\n",
              "\n",
              "scope.google = scope.google || {};\n",
              "scope.google.colab = scope.google.colab || {};\n",
              "scope.google.colab._files = {\n",
              "  _uploadFiles,\n",
              "  _uploadFilesContinue,\n",
              "};\n",
              "})(self);\n",
              "</script> "
            ]
          },
          "metadata": {}
        }
      ]
    },
    {
      "cell_type": "code",
      "source": [
        "!mkdir -p /root/.kaggle/ # Create the directory if it doesn't exist\n",
        "!mv kaggle.json /root/.kaggle/ # Move kaggle.json to the .kaggle directory\n",
        "!chmod 600 /root/.kaggle/kaggle.json"
      ],
      "metadata": {
        "colab": {
          "base_uri": "https://localhost:8080/"
        },
        "id": "ATugbkr4CV6y",
        "outputId": "9bba8894-5b1f-4cbb-86e8-2b19c2a1dc73"
      },
      "execution_count": 24,
      "outputs": [
        {
          "output_type": "stream",
          "name": "stdout",
          "text": [
            "mv: cannot stat 'kaggle.json': No such file or directory\n",
            "chmod: cannot access '/root/.kaggle/kaggle.json': No such file or directory\n"
          ]
        }
      ]
    },
    {
      "cell_type": "code",
      "source": [
        "!kaggle datasets download -d almamaev/flowers-recognition\n"
      ],
      "metadata": {
        "colab": {
          "base_uri": "https://localhost:8080/"
        },
        "id": "g6OB2s64CXsi",
        "outputId": "e21ee70f-b714-473a-9daf-e3464e9ff5cf"
      },
      "execution_count": 25,
      "outputs": [
        {
          "output_type": "stream",
          "name": "stdout",
          "text": [
            "403 - Forbidden - Permission 'datasets.get' was denied\n"
          ]
        }
      ]
    },
    {
      "cell_type": "code",
      "source": [
        "import zipfile\n",
        "# Specify the path to the zip file\n",
        "zip_file_path = \"/content/flowers-recognition.zip\"\n",
        "# Extract the contents of the zip file\n",
        "with zipfile.ZipFile(zip_file_path, 'r') as zip_ref:\n",
        "zip_ref.extractall(\"/content/\")"
      ],
      "metadata": {
        "colab": {
          "base_uri": "https://localhost:8080/",
          "height": 106
        },
        "id": "dKjYSjd9CYeu",
        "outputId": "2d4dcd0f-5436-4482-bde8-cdaa206bf77b"
      },
      "execution_count": 26,
      "outputs": [
        {
          "output_type": "error",
          "ename": "IndentationError",
          "evalue": "expected an indented block after 'with' statement on line 5 (<ipython-input-26-a61afacf5091>, line 6)",
          "traceback": [
            "\u001b[0;36m  File \u001b[0;32m\"<ipython-input-26-a61afacf5091>\"\u001b[0;36m, line \u001b[0;32m6\u001b[0m\n\u001b[0;31m    zip_ref.extractall(\"/content/\")\u001b[0m\n\u001b[0m    ^\u001b[0m\n\u001b[0;31mIndentationError\u001b[0m\u001b[0;31m:\u001b[0m expected an indented block after 'with' statement on line 5\n"
          ]
        }
      ]
    },
    {
      "cell_type": "code",
      "source": [
        "import os\n",
        "import cv2\n",
        "import numpy as np\n",
        "# List of class names\n",
        "class_names = [\"daisy\", \"dandelion\", \"rose\", \"sunflower\", \"tulip\"]\n",
        "# Desired image size\n",
        "img_size = 224\n",
        "# Lists to store images and labels\n",
        "x = []\n",
        "y = []\n",
        "# Loop through each class\n",
        "for i, class_name in enumerate(class_names):\n",
        "folder_path = os.path.join(\"/content/flowers\", class_name) # Path to the folder containing\n",
        "images for the current class\n",
        "# Loop through each image in the folder\n",
        "for file_name in os.listdir(folder_path):\n",
        "file_path = os.path.join(folder_path, file_name)\n",
        "img = cv2.imread(file_path) # Read the image\n",
        "img_resized = cv2.resize(img, (img_size, img_size)) # Resize the image\n",
        "x.append(img_resized) # Append the resized image to the list\n",
        "y.append(i) # Append the label (class index) to the list\n",
        "# Convert lists to numpy arrays\n",
        "x = np.array(x)\n",
        "y = np.array(y)"
      ],
      "metadata": {
        "id": "snaiT9PfCa9H"
      },
      "execution_count": null,
      "outputs": []
    },
    {
      "cell_type": "code",
      "source": [
        "from sklearn.utils import shuffle\n",
        "# Shuffle the dataset\n",
        "x, y = shuffle(x, y, random_state=101)\n"
      ],
      "metadata": {
        "id": "UstvZMNcCfbu"
      },
      "execution_count": null,
      "outputs": []
    },
    {
      "cell_type": "code",
      "source": [
        "print(\"Shape of x:\", x.shape)\n",
        "print(\"Shape of y:\", y.shape)\n"
      ],
      "metadata": {
        "id": "28c7e1GaCf0e"
      },
      "execution_count": null,
      "outputs": []
    },
    {
      "cell_type": "code",
      "source": [
        "import matplotlib.pyplot as plt\n",
        "# Plot 16 images in a 4x4 grid\n",
        "plt.figure(figsize=(10, 10))\n",
        "for i in range(16):\n",
        "plt.subplot(4, 4, i + 1) # Subplot index starts from 1\n",
        "plt.xticks([]) # Remove x-axis ticks\n",
        "plt.yticks([]) # Remove y-axis ticks\n",
        "plt.imshow(x[i]) # Plot the ith image\n",
        "plt.show()"
      ],
      "metadata": {
        "id": "eYiij3vQCiaW"
      },
      "execution_count": null,
      "outputs": []
    },
    {
      "cell_type": "code",
      "source": [
        "print(\"Shape of x_train:\", x_train.shape)\n",
        "print(\"Shape of x_test:\", x_test.shape)\n",
        "print(\"Shape of y_train:\", y_train.shape)\n",
        "print(\"Shape of y_test:\", y_test.shape)\n"
      ],
      "metadata": {
        "id": "xm1bZ7ZOCjut"
      },
      "execution_count": null,
      "outputs": []
    },
    {
      "cell_type": "code",
      "source": [
        "import numpy as np\n",
        "import tensorflow as tf\n",
        "# Define the list of class names\n",
        "class_names = [\"daisy\", \"dandelion\", \"rose\", \"sunflower\", \"tulip\"]\n",
        "# Convert y_train to one-hot encoded format\n",
        "y_train_new = []\n",
        "for label in y_train:\n",
        "y_train_new.append(class_names.index(label))\n",
        "y_train = tf.keras.utils.to_categorical(np.array(y_train_new))\n",
        "# Convert y_test to one-hot encoded format\n",
        "y_test_new = []\n",
        "for label in y_test:\n",
        "y_test_new.append(class_names.index(label))\n",
        "y_test = tf.keras.utils.to_categorical(np.array(y_test_new))"
      ],
      "metadata": {
        "id": "dV09fYozClfO"
      },
      "execution_count": null,
      "outputs": []
    },
    {
      "cell_type": "code",
      "source": [
        "class_names = [\"daisy\", \"dandelion\", \"rose\", \"sunflower\", \"tulip\"]\n",
        "num_classes = len(class_names)\n",
        "print(\"Number of classes:\", num_classes)\n"
      ],
      "metadata": {
        "id": "KA6tUgaqCnfW"
      },
      "execution_count": null,
      "outputs": []
    },
    {
      "cell_type": "code",
      "source": [
        "from keras.applications import vgg16\n",
        "# Define input shape\n",
        "r, c, a = 224, 224, 3\n",
        "# Load pre-trained VGG16 model\n",
        "base_model = vgg16.VGG16(weights='imagenet', include_top=False, input_shape=(r, c, a))\n",
        "# Set all layers to non-trainable\n",
        "for layer in base_model.layers:\n",
        "layer.trainable = False\n"
      ],
      "metadata": {
        "id": "V7NhlqgtDXHi"
      },
      "execution_count": null,
      "outputs": []
    },
    {
      "cell_type": "code",
      "source": [
        "from keras.models import Model\n",
        "from keras.layers import GlobalAveragePooling2D, Dense, Dropout\n",
        "def vgg_model(bottom_model, classes):\n",
        "top_model = bottom_model.output\n",
        "top_model = GlobalAveragePooling2D()(top_model)\n",
        "top_model = Dense(1024, activation='relu')(top_model)\n",
        "top_model = Dense(512, activation='relu')(top_model)\n",
        "top_model = Dense(64, activation='relu')(top_model)\n",
        "top_model = Dropout(0.3)(top_model) # Adding Dropout\n",
        "top_model = Dense(32, activation='relu')(top_model)\n",
        "top_model = Dropout(0.2)(top_model) # Adding Dropout\n",
        "top_model = Dense(classes, activation='softmax')(top_model)\n",
        "return Model(inputs=bottom_model.input, outputs=top_model)\n"
      ],
      "metadata": {
        "id": "G14oARPQDZHq"
      },
      "execution_count": null,
      "outputs": []
    },
    {
      "cell_type": "code",
      "source": [
        "from keras.models import Model\n",
        "# Define the head model by combining the VGG model and the custom top model\n",
        "model_head = vgg_model(vgg, 5)\n",
        "# Define the complete model with input as VGG's input and output as the custom head model's\n",
        "output\n",
        "model = Model(inputs=vgg.input, outputs=model_head)\n"
      ],
      "metadata": {
        "id": "XzkN2yqUDbaq"
      },
      "execution_count": null,
      "outputs": []
    },
    {
      "cell_type": "code",
      "source": [
        "model.summary()\n"
      ],
      "metadata": {
        "id": "PSM2t8mBDdfa"
      },
      "execution_count": null,
      "outputs": []
    },
    {
      "cell_type": "code",
      "source": [
        "import tensorflow as tf\n",
        "model.compile(loss=tf.keras.losses.CategoricalCrossentropy(),\n",
        "optimizer=tf.keras.optimizers.Adam(learning_rate=0.0001),\n",
        "metrics=[\"accuracy\"])"
      ],
      "metadata": {
        "id": "JLbk3DvnDfJ6"
      },
      "execution_count": null,
      "outputs": []
    },
    {
      "cell_type": "code",
      "source": [
        "history = model.fit(x_train, y_train, validation_split=0.1, epochs=10)\n"
      ],
      "metadata": {
        "id": "SVWR_qWxDf-S"
      },
      "execution_count": null,
      "outputs": []
    },
    {
      "cell_type": "code",
      "source": [
        "# Evaluate the model on the test data\n",
        "loss, acc = model.evaluate(x_test, y_test)\n",
        "# Print the accuracy on the test data\n",
        "print(\"Accuracy on test data:\", acc)"
      ],
      "metadata": {
        "id": "ZnZuvPP4Di7a"
      },
      "execution_count": null,
      "outputs": []
    },
    {
      "cell_type": "code",
      "source": [
        "import cv2\n",
        "from google.colab.patches import cv2_imshow\n",
        "# Path to the image file\n",
        "img1_path = '/content/dasty 1.jpg'\n",
        "# Read the image using OpenCV\n",
        "img1 = cv2.imread(img1_path)\n",
        "# Display the image\n",
        "cv2_imshow(img1)"
      ],
      "metadata": {
        "id": "n1g1Yf9WDmFN"
      },
      "execution_count": null,
      "outputs": []
    },
    {
      "cell_type": "code",
      "source": [
        "import cv2\n",
        "import numpy as np\n",
        "# Resize the image\n",
        "img1_resized = cv2.resize(img1, (224, 224))\n",
        "# Reshape the image\n",
        "img1_reshaped = np.reshape(img1_resized, (1, 224, 224, 3))\n"
      ],
      "metadata": {
        "id": "hoiPOAAUDndk"
      },
      "execution_count": null,
      "outputs": []
    },
    {
      "cell_type": "code",
      "source": [
        "import cv2\n",
        "import numpy as np\n",
        "# Resize the image\n",
        "img1_resized = cv2.resize(img1, (224, 224))\n",
        "# Reshape the image\n",
        "img1_reshaped = np.reshape(img1_resized, (1, 224, 224, 3))\n",
        "# Make predictions on the image\n",
        "predictions = model.predict(img1)\n",
        "# Print the predictions\n",
        "print(predictions)"
      ],
      "metadata": {
        "id": "t58IgRMlDpQq"
      },
      "execution_count": null,
      "outputs": []
    },
    {
      "cell_type": "code",
      "source": [
        "print(\"Prediction:\", class_names[np.argmax(pred1)])\n"
      ],
      "metadata": {
        "id": "rG6Oyb9bDqTK"
      },
      "execution_count": null,
      "outputs": []
    }
  ]
}