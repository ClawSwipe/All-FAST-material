{
  "nbformat": 4,
  "nbformat_minor": 0,
  "metadata": {
    "colab": {
      "provenance": []
    },
    "kernelspec": {
      "name": "python3",
      "display_name": "Python 3"
    },
    "language_info": {
      "name": "python"
    }
  },
  "cells": [
    {
      "cell_type": "code",
      "execution_count": null,
      "metadata": {
        "colab": {
          "base_uri": "https://localhost:8080/"
        },
        "id": "QglnFkxQ7o6v",
        "outputId": "af2b7759-285f-4461-f65e-1ced25a983ea"
      },
      "outputs": [
        {
          "output_type": "stream",
          "name": "stdout",
          "text": [
            " | | \n",
            "-----\n",
            " | | \n",
            "-----\n",
            " | | \n",
            "-----\n"
          ]
        }
      ],
      "source": [
        "import math\n",
        "\n",
        "player = 'X'\n",
        "AI = 'O'\n",
        "empty = ' '\n",
        "\n",
        "def printingBoard(board):\n",
        "    for row in board:\n",
        "        print('|'.join(row))\n",
        "        print('-----')\n",
        "\n",
        "def khali_cell(board): #creating empty cells\n",
        "    cells = []\n",
        "    for i, row in enumerate(board):\n",
        "        for j, cell in enumerate(row):\n",
        "            if cell == empty:\n",
        "                cells.append((i, j))\n",
        "    return cells\n",
        "\n",
        "def winnerChecking(board):\n",
        "    for row in board:\n",
        "        if row.count(row[0]) == len(row) and row[0] != empty:\n",
        "            return row[0]\n",
        "\n",
        "    for col in range(len(board)):\n",
        "        if board[0][col] == board[1][col] == board[2][col] and board[0][col] != empty:\n",
        "            return board[0][col]\n",
        "\n",
        "    if board[0][0] == board[1][1] == board[2][2] and board[0][0] != empty:\n",
        "        return board[0][0]\n",
        "    if board[0][2] == board[1][1] == board[2][0] and board[0][2] != empty:\n",
        "        return board[0][2]\n",
        "\n",
        "    if not any(empty in row for row in board):\n",
        "        return \"Draw\"\n",
        "\n",
        "    return None\n",
        "\n",
        "def minimax(board, depth, is_maximizing): #checking if either AI or the Player is the winner or it's a draw\n",
        "    winner = winnerChecking(board)\n",
        "\n",
        "    if winner == AI:\n",
        "        return 1\n",
        "    elif winner == player:\n",
        "        return -1\n",
        "    elif winner == \"Draw\":\n",
        "        return 0\n",
        "\n",
        "    if is_maximizing:\n",
        "        max_eval = -math.inf\n",
        "        for row, col in empty_cells(board):\n",
        "            board[row][col] = AI\n",
        "            eval = minimax(board, depth + 1, False)\n",
        "            board[row][col] = empty\n",
        "            max_eval = max(max_eval, eval)\n",
        "        return max_eval\n",
        "    else:\n",
        "        min_eval = math.inf\n",
        "        for row, col in empty_cells(board):\n",
        "            board[row][col] = player\n",
        "            eval = minimax(board, depth + 1, True)\n",
        "            board[row][col] = empty\n",
        "            min_eval = min(min_eval, eval)\n",
        "        return min_eval\n",
        "\n",
        "def get_best_move(board):\n",
        "    best_move = None\n",
        "    best_eval = -math.inf\n",
        "    for row, col in empty_cells(board):\n",
        "        board[row][col] = AI\n",
        "        eval = minimax(board, 0, False)\n",
        "        board[row][col] = empty\n",
        "        if eval > best_eval:\n",
        "            best_eval = eval\n",
        "            best_move = (row, col)\n",
        "    return best_move\n",
        "\n",
        "def main():\n",
        "    board = [[empty, empty, empty],\n",
        "             [empty, empty, empty],\n",
        "             [empty, empty, empty]]\n",
        "    printingBoard(board)\n",
        "\n",
        "    while True:\n",
        "        player_row = int(input(\"Enter row (0, 1, 2): \"))\n",
        "        player_col = int(input(\"Enter column (0, 1, 2): \"))\n",
        "        board[player_row][player_col] = player\n",
        "        printingBoard(board)\n",
        "\n",
        "        winner = winnerChecking(board)\n",
        "        if winner:\n",
        "            print(f\"Winner is {winner}\")\n",
        "            break\n",
        "\n",
        "        ai_row, ai_col = get_best_move(board)\n",
        "        board[ai_row][ai_col] = AI\n",
        "        print(f\"AI chose position: {ai_row}, {ai_col}\")\n",
        "        printingBoard(board)\n",
        "\n",
        "        winner = winnerChecking(board)\n",
        "        if winner:\n",
        "            print(f\"Winner is {winner}\")\n",
        "            break\n",
        "\n",
        "if __name__ == \"__main__\":\n",
        "    main()"
      ]
    },
    {
      "cell_type": "code",
      "source": [
        "  pip install python-constraint"
      ],
      "metadata": {
        "colab": {
          "base_uri": "https://localhost:8080/"
        },
        "id": "oTetxp_-7uOF",
        "outputId": "8fd7608b-ff0f-4cee-ff7a-17a73b174261"
      },
      "execution_count": 2,
      "outputs": [
        {
          "output_type": "stream",
          "name": "stdout",
          "text": [
            "Collecting python-constraint\n",
            "  Downloading python-constraint-1.4.0.tar.bz2 (18 kB)\n",
            "  Preparing metadata (setup.py) ... \u001b[?25l\u001b[?25hdone\n",
            "Building wheels for collected packages: python-constraint\n",
            "  Building wheel for python-constraint (setup.py) ... \u001b[?25l\u001b[?25hdone\n",
            "  Created wheel for python-constraint: filename=python_constraint-1.4.0-py2.py3-none-any.whl size=24058 sha256=4a5cace7f712cf91332852881c59b6d56e2fdf136477060f268b98438411fd7b\n",
            "  Stored in directory: /root/.cache/pip/wheels/2e/f2/2b/cb08b5fe129e4f69b7033061f256e5c551b0aa1160c2872aee\n",
            "Successfully built python-constraint\n",
            "Installing collected packages: python-constraint\n",
            "Successfully installed python-constraint-1.4.0\n"
          ]
        }
      ]
    },
    {
      "cell_type": "code",
      "source": [
        "from constraint import Problem\n",
        "\n",
        "def nQueen(n):\n",
        "    problem = Problem()\n",
        "    cols = range(n)\n",
        "    rows = range(n)\n",
        "\n",
        "    problem.addVariables(cols, rows)\n",
        "\n",
        "    for i in range(n):\n",
        "        for j in range(i+1, n):\n",
        "            problem.addConstraint(lambda x, y, i=i, j=j: x != y and abs(x - y) != j - i, (i, j))\n",
        "\n",
        "    solution = problem.getSolution()\n",
        "\n",
        "    return solution\n",
        "\n",
        "def solPrinting(solution):\n",
        "    n = len(solution)\n",
        "    for row in range(n):\n",
        "        line = \"\"\n",
        "        for col in range(n):\n",
        "            if solution[col] == row:\n",
        "                line += \"Q \"\n",
        "            else:\n",
        "                line += \"- \"\n",
        "        print(line)\n",
        "    print()\n",
        "\n",
        "if __name__ == \"__main__\":\n",
        "    n =int(input(\"Enter the amount of n-queens you want to create : \"))\n",
        "    solution = nQueen(n)\n",
        "    if solution is None:\n",
        "        print(f\"No solution found for {n}-Queens problem.\")\n",
        "    else:\n",
        "        print(f\"Solution for {n}-Queens problem:\")\n",
        "        solPrinting(solution)\n"
      ],
      "metadata": {
        "colab": {
          "base_uri": "https://localhost:8080/"
        },
        "id": "6kqcH3G579nl",
        "outputId": "6a07cc0a-b9b2-48fa-b708-fa292f633a20"
      },
      "execution_count": 5,
      "outputs": [
        {
          "output_type": "stream",
          "name": "stdout",
          "text": [
            "Enter the amount of n-queens you want to create : 6\n",
            "Solution for 6-Queens problem:\n",
            "- - Q - - - \n",
            "- - - - - Q \n",
            "- Q - - - - \n",
            "- - - - Q - \n",
            "Q - - - - - \n",
            "- - - Q - - \n",
            "\n"
          ]
        }
      ]
    }
  ]
}