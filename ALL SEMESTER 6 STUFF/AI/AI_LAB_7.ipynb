{
  "nbformat": 4,
  "nbformat_minor": 0,
  "metadata": {
    "colab": {
      "provenance": []
    },
    "kernelspec": {
      "name": "python3",
      "display_name": "Python 3"
    },
    "language_info": {
      "name": "python"
    }
  },
  "cells": [
    {
      "cell_type": "code",
      "execution_count": null,
      "metadata": {
        "id": "LGl4rcOS-3jZ"
      },
      "outputs": [],
      "source": [
        "import pandas as pd\n",
        "import numpy as np"
      ]
    },
    {
      "cell_type": "code",
      "source": [
        "def calculate_probability():\n",
        "    p_plan1 = 0.30\n",
        "    p_plan2 = 0.20\n",
        "    p_plan3 = 0.50\n",
        "\n",
        "    p_defect_given_plan1 = 0.01\n",
        "    p_defect_given_plan2 = 0.03\n",
        "    p_defect_given_plan3 = 0.02\n",
        "\n",
        "    p_defect = p_plan1 * p_defect_given_plan1 + p_plan2 * p_defect_given_plan2 + p_plan3 * p_defect_given_plan3\n",
        "\n",
        "    p_plan1_given_defect = (p_plan1 * p_defect_given_plan1) / p_defect\n",
        "    p_plan2_given_defect = (p_plan2 * p_defect_given_plan2) / p_defect\n",
        "    p_plan3_given_defect = (p_plan3 * p_defect_given_plan3) / p_defect\n",
        "\n",
        "    return p_plan1_given_defect, p_plan2_given_defect, p_plan3_given_defect\n",
        "\n",
        "def most_likely_plan(probabilities):\n",
        "    max_prob = max(probabilities)\n",
        "    if probabilities.count(max_prob) == 1:\n",
        "        return probabilities.index(max_prob) + 1\n",
        "    else:\n",
        "        return [i + 1 for i, j in enumerate(probabilities) if j == max_prob]\n",
        "\n",
        "def main():\n",
        "    p_plan1_given_defect, p_plan2_given_defect, p_plan3_given_defect = calculate_probability()\n",
        "\n",
        "    print(\"Probability of plan 1 being responsible:\", p_plan1_given_defect)\n",
        "    print(\"Probability of plan 2 being responsible:\", p_plan2_given_defect)\n",
        "    print(\"Probability of plan 3 being responsible:\", p_plan3_given_defect)\n",
        "\n",
        "    probabilities = [p_plan1_given_defect, p_plan2_given_defect, p_plan3_given_defect]\n",
        "    most_likely = most_likely_plan(probabilities)\n",
        "\n",
        "    if isinstance(most_likely, list):\n",
        "        print(\"The following plan(s) is/are most likely responsible:\", most_likely)\n",
        "    else:\n",
        "        print(\"Plan\", most_likely, \"is most likely responsible.\")\n",
        "\n",
        "if __name__ == \"__main__\":\n",
        "    main()\n"
      ],
      "metadata": {
        "colab": {
          "base_uri": "https://localhost:8080/"
        },
        "id": "WmvNSkA9BjJQ",
        "outputId": "519d460d-39d5-471a-c2a6-53ad4f2e4f2e"
      },
      "execution_count": null,
      "outputs": [
        {
          "output_type": "stream",
          "name": "stdout",
          "text": [
            "Probability of plan 1 being responsible: 0.15789473684210525\n",
            "Probability of plan 2 being responsible: 0.3157894736842105\n",
            "Probability of plan 3 being responsible: 0.5263157894736842\n",
            "Plan 3 is most likely responsible.\n"
          ]
        }
      ]
    },
    {
      "cell_type": "code",
      "source": [
        "pa = 0.95\n",
        "pe = 0.85\n",
        "malf = 0.02\n",
        "\n",
        "pa = (pa * malf) + (pe * malf)\n",
        "print(\"Probability of a Machine Malfunction Alarm: \",pa)\n"
      ],
      "metadata": {
        "colab": {
          "base_uri": "https://localhost:8080/"
        },
        "id": "BetBVovDJy-s",
        "outputId": "eabdbfaa-7c67-4a1e-8e3d-124342422ec9"
      },
      "execution_count": null,
      "outputs": [
        {
          "output_type": "stream",
          "name": "stdout",
          "text": [
            "Probability of a Machine Malfunction Alarm:  0.036000000000000004\n"
          ]
        }
      ]
    },
    {
      "cell_type": "code",
      "source": [
        "pip install pomegranate==0.14.9"
      ],
      "metadata": {
        "colab": {
          "base_uri": "https://localhost:8080/"
        },
        "id": "jIlHKSBuK9wa",
        "outputId": "59c62eff-a2e6-47bc-98e0-3e1c4a224f58"
      },
      "execution_count": 1,
      "outputs": [
        {
          "output_type": "stream",
          "name": "stdout",
          "text": [
            "Requirement already satisfied: pomegranate==0.14.9 in /usr/local/lib/python3.10/dist-packages (0.14.9)\n",
            "Requirement already satisfied: cython<3.0.0,>=0.22.1 in /usr/local/lib/python3.10/dist-packages (from pomegranate==0.14.9) (0.29.37)\n",
            "Requirement already satisfied: numpy>=1.20.0 in /usr/local/lib/python3.10/dist-packages (from pomegranate==0.14.9) (1.25.2)\n",
            "Requirement already satisfied: joblib>=0.9.0b4 in /usr/local/lib/python3.10/dist-packages (from pomegranate==0.14.9) (1.4.0)\n",
            "Requirement already satisfied: networkx>=2.4 in /usr/local/lib/python3.10/dist-packages (from pomegranate==0.14.9) (3.3)\n",
            "Requirement already satisfied: scipy>=0.17.0 in /usr/local/lib/python3.10/dist-packages (from pomegranate==0.14.9) (1.11.4)\n",
            "Requirement already satisfied: pyyaml in /usr/local/lib/python3.10/dist-packages (from pomegranate==0.14.9) (6.0.1)\n"
          ]
        }
      ]
    },
    {
      "cell_type": "code",
      "source": [
        "from pomegranate import *"
      ],
      "metadata": {
        "id": "80_45WkoO-Eq"
      },
      "execution_count": null,
      "outputs": []
    },
    {
      "cell_type": "code",
      "source": [
        "goldifbox1 = DiscreteDistribution({'GG':1})\n",
        "goldifbox2 = DiscreteDistribution({'SS':0})\n",
        "goldifbox3 = DiscreteDistribution({'GS':0})\n",
        "\n",
        "\n",
        "boxchosen = DiscreteDistribution({'Box1' :0.5, 'Box2': 0, 'Box3':0.5})\n",
        "\n",
        "secondgold = DiscreteDistribution ({'Box1':1, 'Box2':0, 'Box3':0})\n",
        "\n",
        "cond = ConditionalProbabilityTable(\n",
        "                [[ 'Box1Gold', 'Box1SecondGold', 1 ],\n",
        "                 [ 'Box2Gold', 'Box2SecondGold', 0.0 ],\n",
        "                 [ 'Box3Gold', 'Box3SecondGold',  0.0 ]], [boxchosen, secondgold] )\n",
        "\n",
        "print(cond)\n",
        "\n",
        "\n",
        "\n",
        "\n"
      ],
      "metadata": {
        "colab": {
          "base_uri": "https://localhost:8080/"
        },
        "id": "04spx7pRTGUj",
        "outputId": "a9d8d933-f36e-4b10-a26f-ab4342699e56"
      },
      "execution_count": 27,
      "outputs": [
        {
          "output_type": "stream",
          "name": "stdout",
          "text": [
            "Box1Gold\tBox1SecondGold\t1.0\n",
            "Box2Gold\tBox2SecondGold\t0.0\n",
            "Box3Gold\tBox3SecondGold\t0.0\n"
          ]
        }
      ]
    },
    {
      "cell_type": "code",
      "source": [
        "from pomegranate import *\n",
        "\n",
        "states = ['high-demand', 'low-demand']\n",
        "\n",
        "symbols_solar = ['high-sales', 'low-sales']\n",
        "symbols_wind = ['high-sales', 'low-sales']\n",
        "\n",
        "start_probabilities = {\n",
        "    'high-demand': 0.5,\n",
        "    'low-demand': 0.5\n",
        "}\n",
        "\n",
        "\n",
        "emission_solar = ConditionalProbabilityTable([\n",
        "    ['high-demand', 'high-sales', 0.8],  # Probability of high sales given high demand\n",
        "    ['high-demand', 'low-sales', 0.2],   # Probability of low sales given high demand\n",
        "    ['low-demand', 'high-sales', 0.3],   # Probability of high sales given low demand\n",
        "    ['low-demand', 'low-sales', 0.7]     # Probability of low sales given low demand\n",
        "], [states, symbols_solar])\n",
        "\n",
        "emission_wind = ConditionalProbabilityTable([\n",
        "    ['high-demand', 'high-sales', 0.6],  # Probability of high sales given high demand\n",
        "    ['high-demand', 'low-sales', 0.4],   # Probability of low sales given high demand\n",
        "    ['low-demand', 'high-sales', 0.2],   # Probability of high sales given low demand\n",
        "    ['low-demand', 'low-sales', 0.8]     # Probability of low sales given low demand\n",
        "], [states, symbols_wind])\n",
        "\n",
        "# Create state objects\n",
        "solar_state = State(emission_solar, name='solar')\n",
        "wind_state = State(emission_wind, name='wind')\n",
        "\n",
        "# Create Hidden Markov Model\n",
        "model = HiddenMarkovModel()\n",
        "\n",
        "# Add states to the model\n",
        "model.add_states(solar_state, wind_state)\n",
        "\n",
        "# Add initial probabilities to the model\n",
        "model.add_transition(model.start, solar_state, start_probabilities['high-demand'])\n",
        "model.add_transition(model.start, wind_state, start_probabilities['low-demand'])\n",
        "\n",
        "# Add transition probabilities to the model\n",
        "model.add_transition(solar_state, solar_state, 0.4) #40% solar\n",
        "model.add_transition(wind_state, wind_state, 0.6) #60% wind\n",
        "\n",
        "# Bake the model (finalize its structure)\n",
        "model.bake()\n",
        "\n",
        "\n"
      ],
      "metadata": {
        "id": "bWKd0NTOZ7r7"
      },
      "execution_count": 33,
      "outputs": []
    },
    {
      "cell_type": "code",
      "source": [
        "solar_sales = ['high-sales', 'low-sales', 'high-sales', 'high-sales', 'low-sales','low-sales','high-sales'] #7 days\n",
        "wind_sales = ['high-sales', 'low-sales', 'low-sales', 'high-sales', 'low-sales','high-sales','high-sales']\n",
        "sales_mapping = {'high-sales': 0, 'low-sales': 1}\n",
        "encoded_solar_sales = [sales_mapping[sale] for sale in solar_sales]\n",
        "encoded_wind_sales = [sales_mapping[sale] for sale in wind_sales]\n",
        "\n",
        "solar_state_sequence = model.predict(encoded_solar_sales)\n",
        "\n",
        "wind_state_sequence = model.predict(encoded_wind_sales)\n",
        "\n",
        "print(\"Predicted state sequence for solar panels:\", solar_state_sequence)\n",
        "print(\"Predicted state sequence for wind turbines:\", wind_state_sequence)\n"
      ],
      "metadata": {
        "colab": {
          "base_uri": "https://localhost:8080/"
        },
        "id": "fbrTicz-c6Zb",
        "outputId": "3b812a74-c772-458f-94a5-2c5a1441f19d"
      },
      "execution_count": 35,
      "outputs": [
        {
          "output_type": "stream",
          "name": "stdout",
          "text": [
            "Predicted state sequence for solar panels: [1, 1, 1, 1, 1, 1, 1]\n",
            "Predicted state sequence for wind turbines: [0, 0, 0, 0, 0, 0, 0]\n"
          ]
        }
      ]
    },
    {
      "cell_type": "code",
      "source": [
        "pip install hmmlearn"
      ],
      "metadata": {
        "colab": {
          "base_uri": "https://localhost:8080/"
        },
        "id": "85N0obLLdaGr",
        "outputId": "0aeb329d-5fd8-40f5-d3f2-0a1f792a87e6"
      },
      "execution_count": 37,
      "outputs": [
        {
          "output_type": "stream",
          "name": "stdout",
          "text": [
            "Collecting hmmlearn\n",
            "  Downloading hmmlearn-0.3.2-cp310-cp310-manylinux_2_17_x86_64.manylinux2014_x86_64.whl (161 kB)\n",
            "\u001b[?25l     \u001b[90m━━━━━━━━━━━━━━━━━━━━━━━━━━━━━━━━━━━━━━━━\u001b[0m \u001b[32m0.0/161.1 kB\u001b[0m \u001b[31m?\u001b[0m eta \u001b[36m-:--:--\u001b[0m\r\u001b[2K     \u001b[91m━━━━━━━━━━━━━━━━━━━━━━━━━━━━━━━━━━━━━━\u001b[0m\u001b[90m╺\u001b[0m\u001b[90m━\u001b[0m \u001b[32m153.6/161.1 kB\u001b[0m \u001b[31m4.3 MB/s\u001b[0m eta \u001b[36m0:00:01\u001b[0m\r\u001b[2K     \u001b[90m━━━━━━━━━━━━━━━━━━━━━━━━━━━━━━━━━━━━━━━━\u001b[0m \u001b[32m161.1/161.1 kB\u001b[0m \u001b[31m3.1 MB/s\u001b[0m eta \u001b[36m0:00:00\u001b[0m\n",
            "\u001b[?25hRequirement already satisfied: numpy>=1.10 in /usr/local/lib/python3.10/dist-packages (from hmmlearn) (1.25.2)\n",
            "Requirement already satisfied: scikit-learn!=0.22.0,>=0.16 in /usr/local/lib/python3.10/dist-packages (from hmmlearn) (1.2.2)\n",
            "Requirement already satisfied: scipy>=0.19 in /usr/local/lib/python3.10/dist-packages (from hmmlearn) (1.11.4)\n",
            "Requirement already satisfied: joblib>=1.1.1 in /usr/local/lib/python3.10/dist-packages (from scikit-learn!=0.22.0,>=0.16->hmmlearn) (1.4.0)\n",
            "Requirement already satisfied: threadpoolctl>=2.0.0 in /usr/local/lib/python3.10/dist-packages (from scikit-learn!=0.22.0,>=0.16->hmmlearn) (3.4.0)\n",
            "Installing collected packages: hmmlearn\n",
            "Successfully installed hmmlearn-0.3.2\n"
          ]
        }
      ]
    },
    {
      "cell_type": "code",
      "source": [
        "from hmmlearn import hmm\n",
        "import numpy as np\n",
        "\n",
        "mapping = {'tshirt':1,'jacket':0}\n",
        "\n",
        "observations = np.array([[0,1,1,0,0,0,1],[1,1,0,0,1,1,0]])\n",
        "\n",
        "model = hmm.MultinomialHMM(n_components=2)\n",
        "\n",
        "model.fit(observations)\n",
        "\n",
        "ans = model.predict(observations)\n",
        "\n",
        "ans = ['sunny' if val == 0 else 'rainy' for val in ans]\n",
        "\n",
        "print('Predicted')\n",
        "print(ans)"
      ],
      "metadata": {
        "colab": {
          "base_uri": "https://localhost:8080/"
        },
        "id": "CSTpDfukeQRz",
        "outputId": "36a6cd79-3489-48e9-ee69-70a4b5d510e6"
      },
      "execution_count": 51,
      "outputs": [
        {
          "output_type": "stream",
          "name": "stderr",
          "text": [
            "WARNING:hmmlearn.hmm:MultinomialHMM has undergone major changes. The previous version was implementing a CategoricalHMM (a special case of MultinomialHMM). This new implementation follows the standard definition for a Multinomial distribution (e.g. as in https://en.wikipedia.org/wiki/Multinomial_distribution). See these issues for details:\n",
            "https://github.com/hmmlearn/hmmlearn/issues/335\n",
            "https://github.com/hmmlearn/hmmlearn/issues/340\n",
            "WARNING:hmmlearn.base:Fitting a model with 15 free scalar parameters with only 14 data points will result in a degenerate solution.\n"
          ]
        },
        {
          "output_type": "stream",
          "name": "stdout",
          "text": [
            "Predicted\n",
            "['rainy', 'sunny']\n"
          ]
        }
      ]
    }
  ]
}