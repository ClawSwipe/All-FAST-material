{
  "nbformat": 4,
  "nbformat_minor": 0,
  "metadata": {
    "colab": {
      "provenance": []
    },
    "kernelspec": {
      "name": "python3",
      "display_name": "Python 3"
    },
    "language_info": {
      "name": "python"
    }
  },
  "cells": [
    {
      "cell_type": "code",
      "execution_count": null,
      "metadata": {
        "colab": {
          "base_uri": "https://localhost:8080/"
        },
        "id": "UGhrvR_EDsA2",
        "outputId": "65aafeec-f1be-4088-d826-b25f07104463"
      },
      "outputs": [
        {
          "output_type": "execute_result",
          "data": {
            "text/plain": [
              "0.4444444444444444"
            ]
          },
          "metadata": {},
          "execution_count": 10
        }
      ],
      "source": [
        "def prob():\n",
        "  totalspace = 9 #1,2,2,3,4,4,5,6,6\n",
        "  prob_of_1 = 1/totalspace\n",
        "  probof2 = 2/totalspace\n",
        "  probof3 = 1/totalspace\n",
        "  prob_of_less_than_4 =  prob_of_1 +probof2+probof3\n",
        "  return prob_of_less_than_4\n",
        "\n",
        "prob()"
      ]
    },
    {
      "cell_type": "code",
      "source": [
        "pip install hmmlearn"
      ],
      "metadata": {
        "colab": {
          "base_uri": "https://localhost:8080/"
        },
        "id": "vbMxeSN9HGLK",
        "outputId": "c86b9ad7-6134-49dd-e9c4-9fe18fc90e57"
      },
      "execution_count": 2,
      "outputs": [
        {
          "output_type": "stream",
          "name": "stdout",
          "text": [
            "Collecting hmmlearn\n",
            "  Downloading hmmlearn-0.3.2-cp310-cp310-manylinux_2_17_x86_64.manylinux2014_x86_64.whl (161 kB)\n",
            "\u001b[?25l     \u001b[90m━━━━━━━━━━━━━━━━━━━━━━━━━━━━━━━━━━━━━━━━\u001b[0m \u001b[32m0.0/161.1 kB\u001b[0m \u001b[31m?\u001b[0m eta \u001b[36m-:--:--\u001b[0m\r\u001b[2K     \u001b[91m━━━━━━━━━━━━━━━━━━━━━━\u001b[0m\u001b[91m╸\u001b[0m\u001b[90m━━━━━━━━━━━━━━━━━\u001b[0m \u001b[32m92.2/161.1 kB\u001b[0m \u001b[31m2.5 MB/s\u001b[0m eta \u001b[36m0:00:01\u001b[0m\r\u001b[2K     \u001b[90m━━━━━━━━━━━━━━━━━━━━━━━━━━━━━━━━━━━━━━━━\u001b[0m \u001b[32m161.1/161.1 kB\u001b[0m \u001b[31m2.5 MB/s\u001b[0m eta \u001b[36m0:00:00\u001b[0m\n",
            "\u001b[?25hRequirement already satisfied: numpy>=1.10 in /usr/local/lib/python3.10/dist-packages (from hmmlearn) (1.25.2)\n",
            "Requirement already satisfied: scikit-learn!=0.22.0,>=0.16 in /usr/local/lib/python3.10/dist-packages (from hmmlearn) (1.2.2)\n",
            "Requirement already satisfied: scipy>=0.19 in /usr/local/lib/python3.10/dist-packages (from hmmlearn) (1.11.4)\n",
            "Requirement already satisfied: joblib>=1.1.1 in /usr/local/lib/python3.10/dist-packages (from scikit-learn!=0.22.0,>=0.16->hmmlearn) (1.4.0)\n",
            "Requirement already satisfied: threadpoolctl>=2.0.0 in /usr/local/lib/python3.10/dist-packages (from scikit-learn!=0.22.0,>=0.16->hmmlearn) (3.4.0)\n",
            "Installing collected packages: hmmlearn\n",
            "Successfully installed hmmlearn-0.3.2\n"
          ]
        }
      ]
    },
    {
      "cell_type": "code",
      "source": [
        "from hmmlearn import hmm\n",
        "import numpy as np\n",
        "\n",
        "startprob = np.array([0.5, 0.5])  # Initial state probabilities: healthy, sick\n",
        "\n",
        "\n",
        "transmat = np.array([[0.7, 0.3],   # Transition probabilities:\n",
        "                     [0.4, 0.6]])\n",
        "\n",
        "\n",
        "emissionprob = np.array([[0.9, 0.1],  # Emission probabilities:\n",
        "                         [0.2, 0.8]])\n",
        "\n",
        "\n",
        "# Create an instance of the HMM model\n",
        "model = hmm.MultinomialHMM(n_components=2)\n",
        "model.startprob_ = startprob\n",
        "model.transmat_ = transmat\n",
        "model.emissionprob_ = emissionprob\n",
        "\n",
        "# Define the observations\n",
        "observations = np.array([[1],  # cough\n",
        "                         [0],  # no cough\n",
        "                         [1],  # cough\n",
        "                         [0],  # no cough\n",
        "                         [1]]) # cough\n",
        "\n",
        "model.fit(observations)\n",
        "\n",
        "logprob, states = model.decode(observations)\n",
        "\n",
        "# Map state indices to their meanings\n",
        "state_map = {0: 'consult doc', 1: 'dont consult'}\n",
        "state_sequence = [state_map[state] for state in states]\n",
        "\n",
        "print(\"Observations (cough=1, no cough=0):\", observations.flatten())\n",
        "print(\"Most likely states:\", state_sequence)\n"
      ],
      "metadata": {
        "colab": {
          "base_uri": "https://localhost:8080/"
        },
        "id": "dRrX-pSEGzlO",
        "outputId": "27243054-ec0d-4666-e40f-54de0241d18c"
      },
      "execution_count": null,
      "outputs": [
        {
          "output_type": "stream",
          "name": "stderr",
          "text": [
            "WARNING:hmmlearn.hmm:MultinomialHMM has undergone major changes. The previous version was implementing a CategoricalHMM (a special case of MultinomialHMM). This new implementation follows the standard definition for a Multinomial distribution (e.g. as in https://en.wikipedia.org/wiki/Multinomial_distribution). See these issues for details:\n",
            "https://github.com/hmmlearn/hmmlearn/issues/335\n",
            "https://github.com/hmmlearn/hmmlearn/issues/340\n",
            "WARNING:hmmlearn.base:Even though the 'startprob_' attribute is set, it will be overwritten during initialization because 'init_params' contains 's'\n",
            "WARNING:hmmlearn.base:Even though the 'transmat_' attribute is set, it will be overwritten during initialization because 'init_params' contains 't'\n"
          ]
        },
        {
          "output_type": "stream",
          "name": "stdout",
          "text": [
            "Observations (cough=1, no cough=0): [1 0 1 0 1]\n",
            "Most likely states: ['consult doc', 'dont consult', 'consult doc', 'dont consult', 'consult doc']\n"
          ]
        }
      ]
    },
    {
      "cell_type": "code",
      "source": [
        "import numpy as np\n",
        "from hmmlearn import hmm\n",
        "\n",
        "prices = [100, 110, 105, 95, 100, 90, 85, 95, 105, 110]\n",
        "\n",
        "\n",
        "states = [\"Up\", \"Down\"]\n",
        "n_states = len(states)\n",
        "\n",
        "\n",
        "observations = np.array(prices).reshape(-1, 1)\n",
        "\n",
        "model = hmm.MultinomialHMM(n_components=n_states)\n",
        "\n",
        "model.fit(observations)\n",
        "\n",
        "predicted_states = model.predict(observations)\n",
        "\n",
        "ans = [states[state_index] for state_index in predicted_states]\n",
        "\n",
        "print(\"Predicted market trend sequence:\", ans)\n"
      ],
      "metadata": {
        "colab": {
          "base_uri": "https://localhost:8080/"
        },
        "id": "YznYKHc2XzEu",
        "outputId": "c5504040-bdba-4fee-943d-2b026950098e"
      },
      "execution_count": 17,
      "outputs": [
        {
          "output_type": "stream",
          "name": "stderr",
          "text": [
            "WARNING:hmmlearn.hmm:MultinomialHMM has undergone major changes. The previous version was implementing a CategoricalHMM (a special case of MultinomialHMM). This new implementation follows the standard definition for a Multinomial distribution (e.g. as in https://en.wikipedia.org/wiki/Multinomial_distribution). See these issues for details:\n",
            "https://github.com/hmmlearn/hmmlearn/issues/335\n",
            "https://github.com/hmmlearn/hmmlearn/issues/340\n"
          ]
        },
        {
          "output_type": "stream",
          "name": "stdout",
          "text": [
            "Predicted market trend sequence: ['Down', 'Up', 'Down', 'Up', 'Down', 'Up', 'Down', 'Up', 'Down', 'Up']\n"
          ]
        }
      ]
    },
    {
      "cell_type": "code",
      "source": [],
      "metadata": {
        "id": "UaWa99VsaWOW"
      },
      "execution_count": null,
      "outputs": []
    },
    {
      "cell_type": "code",
      "source": [
        "#Using a Hidden Markov Model, detect faults in industrial equipment based on the observation\n",
        "#of abnormal vibrations. The model has two possible states: normal operation and faulty\n",
        "#operation, and two possible observations: normal vibrations and abnormal vibrations.\n",
        "\n",
        "from hmmlearn import hmm\n",
        "import numpy as np\n",
        "\n",
        "startprob = np.array([0.5,0.5])\n",
        "\n",
        "transmat = np.array([[0.7, 0.3],   # Transition probabilities:\n",
        "                     [0.4, 0.6]])\n",
        "\n",
        "\n",
        "emissionprob = np.array([[0.9, 0.1],  # Emission probabilities:\n",
        "                         [0.2, 0.8]])\n",
        "\n",
        "\n",
        "model = hmm.MultinomialHMM(n_components=2)\n",
        "model.startprob_ = startprob\n",
        "model.transmat_ = transmat\n",
        "model.emissionprob_ = emissionprob\n",
        "\n",
        "\n",
        "# Define the observations\n",
        "observations = np.array([[1],  # normal vib\n",
        "                         [0],  # abnormal vib\n",
        "                         [1],  # normal vib\n",
        "                         [0],  # abnormal vib\n",
        "                         [1]]) # normal vib\n",
        "\n",
        "model.fit(observations)\n",
        "\n",
        "logprob, states = model.decode(observations)\n",
        "\n",
        "# Map state indices to their meanings\n",
        "state_map = {0: 'normal operation', 1: 'faulty operation'}\n",
        "state_sequence = [state_map[state] for state in states]\n",
        "\n",
        "print(\"Observations (normal vibration=1, abnormal vibration=0):\", observations.flatten())\n",
        "print(\"Most likely states:\", state_sequence)\n"
      ],
      "metadata": {
        "colab": {
          "base_uri": "https://localhost:8080/"
        },
        "id": "r7sUu4ugKlo9",
        "outputId": "3ff02928-843e-4076-950a-5c166266f89e"
      },
      "execution_count": null,
      "outputs": [
        {
          "output_type": "stream",
          "name": "stderr",
          "text": [
            "WARNING:hmmlearn.hmm:MultinomialHMM has undergone major changes. The previous version was implementing a CategoricalHMM (a special case of MultinomialHMM). This new implementation follows the standard definition for a Multinomial distribution (e.g. as in https://en.wikipedia.org/wiki/Multinomial_distribution). See these issues for details:\n",
            "https://github.com/hmmlearn/hmmlearn/issues/335\n",
            "https://github.com/hmmlearn/hmmlearn/issues/340\n",
            "WARNING:hmmlearn.base:Even though the 'startprob_' attribute is set, it will be overwritten during initialization because 'init_params' contains 's'\n",
            "WARNING:hmmlearn.base:Even though the 'transmat_' attribute is set, it will be overwritten during initialization because 'init_params' contains 't'\n"
          ]
        },
        {
          "output_type": "stream",
          "name": "stdout",
          "text": [
            "Observations (normal vibration=1, abnormal vibration=0): [1 0 1 0 1]\n",
            "Most likely states: ['normal operation', 'faulty operation', 'normal operation', 'faulty operation', 'normal operation']\n"
          ]
        }
      ]
    },
    {
      "cell_type": "code",
      "source": [
        "import numpy as np\n",
        "from hmmlearn import hmm\n",
        "\n",
        "commands = [\"play\", \"stop\", \"pause\"]\n",
        "n_commands = len(commands)\n",
        "\n",
        "# Define the possible observations (acoustic features)\n",
        "# For simplicity, let's assume we have only two types of observations: \"silent\" and \"loud\"\n",
        "observations = [\"silent\", \"loud\"]\n",
        "n_observations = len(observations)\n",
        "\n",
        "\n",
        "training_data = [\n",
        "    [0, 1, 1, 0],  # Sequence for \"play\": silent, loud, loud, silent\n",
        "    [1, 0, 0, 1],  # Sequence for \"stop\": loud, silent, silent, loud\n",
        "    [0, 1, 0]      # Sequence for \"pause\": silent, loud, silent\n",
        "]\n",
        "\n",
        "max_length = max(len(seq) for seq in training_data)\n",
        "padded = [seq + [1] * (max_length - len(seq)) for seq in training_data]\n",
        "\n",
        "inttrainingdata = np.array(padded, dtype=int)\n",
        "\n",
        "if np.any(inttrainingdata < 0):\n",
        "    raise ValueError(\"Training data contains negative values\")\n",
        "\n",
        "model = hmm.MultinomialHMM(n_components=n_commands)\n",
        "\n",
        "model.fit(inttrainingdata)\n",
        "\n",
        "test_data = np.array([[0, 1, 0, 1]])\n",
        "\n",
        "predicted_sequence = model.predict(test_data)\n",
        "\n",
        "predicted_commands = [commands[i] for i in predicted_sequence]\n",
        "\n",
        "print(\"Predicted sequence of commands:\", predicted_commands)"
      ],
      "metadata": {
        "colab": {
          "base_uri": "https://localhost:8080/"
        },
        "id": "Yr08SwaoaZEt",
        "outputId": "571c4da8-0726-42b0-cb32-59508413dd4f"
      },
      "execution_count": 26,
      "outputs": [
        {
          "output_type": "stream",
          "name": "stderr",
          "text": [
            "WARNING:hmmlearn.hmm:MultinomialHMM has undergone major changes. The previous version was implementing a CategoricalHMM (a special case of MultinomialHMM). This new implementation follows the standard definition for a Multinomial distribution (e.g. as in https://en.wikipedia.org/wiki/Multinomial_distribution). See these issues for details:\n",
            "https://github.com/hmmlearn/hmmlearn/issues/335\n",
            "https://github.com/hmmlearn/hmmlearn/issues/340\n",
            "WARNING:hmmlearn.base:Fitting a model with 17 free scalar parameters with only 12 data points will result in a degenerate solution.\n"
          ]
        },
        {
          "output_type": "stream",
          "name": "stdout",
          "text": [
            "Predicted sequence of commands: ['stop']\n"
          ]
        }
      ]
    }
  ]
}