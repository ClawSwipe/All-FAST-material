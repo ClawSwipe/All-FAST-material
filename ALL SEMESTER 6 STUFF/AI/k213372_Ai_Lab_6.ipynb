{
  "cells": [
    {
      "cell_type": "markdown",
      "source": [
        "**Task 2 :**\n",
        "\n",
        "Implement Game Search Algorithm to solve the tic-tac-toe problem mentioned below."
      ],
      "metadata": {
        "id": "Vu3fjyVCrrL_"
      }
    },
    {
      "cell_type": "code",
      "execution_count": null,
      "metadata": {
        "id": "MtRq4N6xMpOT"
      },
      "outputs": [],
      "source": [
        "import math\n",
        "\n",
        "player = 'X'\n",
        "AI = 'O'\n",
        "empty = ' '\n",
        "\n",
        "def printingBoard(board):\n",
        "    for row in board:\n",
        "        print('|'.join(row))\n",
        "        print('-----')\n",
        "\n",
        "def khali_cell(board): #creating empty cells\n",
        "    cells = []\n",
        "    for i, row in enumerate(board):\n",
        "        for j, cell in enumerate(row):\n",
        "            if cell == empty:\n",
        "                cells.append((i, j))\n",
        "    return cells\n",
        "\n",
        "def winnerChecking(board):\n",
        "    for row in board:\n",
        "        if row.count(row[0]) == len(row) and row[0] != empty:\n",
        "            return row[0]\n",
        "\n",
        "    for col in range(len(board)):\n",
        "        if board[0][col] == board[1][col] == board[2][col] and board[0][col] != empty:\n",
        "            return board[0][col]\n",
        "\n",
        "    if board[0][0] == board[1][1] == board[2][2] and board[0][0] != empty:\n",
        "        return board[0][0]\n",
        "    if board[0][2] == board[1][1] == board[2][0] and board[0][2] != empty:\n",
        "        return board[0][2]\n",
        "\n",
        "    if not any(empty in row for row in board):\n",
        "        return \"Draw\"\n",
        "\n",
        "    return None\n",
        "\n",
        "def minimax(board, depth, is_maximizing): #checking if either AI or the Player is the winner or it's a draw\n",
        "    winner = winnerChecking(board)\n",
        "\n",
        "    if winner == AI:\n",
        "        return 1\n",
        "    elif winner == player:\n",
        "        return -1\n",
        "    elif winner == \"Draw\":\n",
        "        return 0\n",
        "\n",
        "    if is_maximizing:\n",
        "        max_eval = -math.inf\n",
        "        for row, col in empty_cells(board):\n",
        "            board[row][col] = AI\n",
        "            eval = minimax(board, depth + 1, False)\n",
        "            board[row][col] = empty\n",
        "            max_eval = max(max_eval, eval)\n",
        "        return max_eval\n",
        "    else:\n",
        "        min_eval = math.inf\n",
        "        for row, col in empty_cells(board):\n",
        "            board[row][col] = player\n",
        "            eval = minimax(board, depth + 1, True)\n",
        "            board[row][col] = empty\n",
        "            min_eval = min(min_eval, eval)\n",
        "        return min_eval\n",
        "\n",
        "def get_best_move(board):\n",
        "    best_move = None\n",
        "    best_eval = -math.inf\n",
        "    for row, col in empty_cells(board):\n",
        "        board[row][col] = AI\n",
        "        eval = minimax(board, 0, False)\n",
        "        board[row][col] = empty\n",
        "        if eval > best_eval:\n",
        "            best_eval = eval\n",
        "            best_move = (row, col)\n",
        "    return best_move\n",
        "\n",
        "def main():\n",
        "    board = [[empty, empty, empty],\n",
        "             [empty, empty, empty],\n",
        "             [empty, empty, empty]]\n",
        "    printingBoard(board)\n",
        "\n",
        "    while True:\n",
        "        player_row = int(input(\"Enter row (0, 1, 2): \"))\n",
        "        player_col = int(input(\"Enter column (0, 1, 2): \"))\n",
        "        board[player_row][player_col] = player\n",
        "        printingBoard(board)\n",
        "\n",
        "        winner = winnerChecking(board)\n",
        "        if winner:\n",
        "            print(f\"Winner is {winner}\")\n",
        "            break\n",
        "\n",
        "        ai_row, ai_col = get_best_move(board)\n",
        "        board[ai_row][ai_col] = AI\n",
        "        print(f\"AI chose position: {ai_row}, {ai_col}\")\n",
        "        printingBoard(board)\n",
        "\n",
        "        winner = winnerChecking(board)\n",
        "        if winner:\n",
        "            print(f\"Winner is {winner}\")\n",
        "            break\n",
        "\n",
        "if __name__ == \"__main__\":\n",
        "    main()"
      ]
    },
    {
      "cell_type": "markdown",
      "source": [
        "**Task 3:**\n",
        "Solve the below tree by using alpha-beta pruning method."
      ],
      "metadata": {
        "id": "rAHbRcbhsXN0"
      }
    },
    {
      "cell_type": "code",
      "source": [
        "maxs, mins = 1000, -1000\n",
        "def alphaBeta(depth, nodeIndex, maximizingPlayer,\n",
        "\t\t\tvalues, alpha, beta):\n",
        "\n",
        "\tif depth == 3:\n",
        "\t\treturn values[nodeIndex]\n",
        "\n",
        "\tif maximizingPlayer:\n",
        "\n",
        "\t\tbest = mins\n",
        "\n",
        "\n",
        "\t\tfor i in range(0, 2):\n",
        "\n",
        "\t\t\tval = alphaBeta(depth + 1, nodeIndex * 2 + i,\n",
        "\t\t\t\t\t\tFalse, values, alpha, beta)\n",
        "\t\t\tbest = max(best, val)\n",
        "\t\t\talpha = max(alpha, best)\n",
        "\n",
        "\t\t\tif beta <= alpha:\n",
        "\t\t\t\tbreak\n",
        "\n",
        "\t\treturn best\n",
        "\n",
        "\telse:\n",
        "\t\tbest = maxs\n",
        "\n",
        "\n",
        "\t\tfor i in range(0, 2):\n",
        "\n",
        "\t\t\tval = alphaBeta(depth + 1, nodeIndex * 2 + i,\n",
        "\t\t\t\t\t\t\tTrue, values, alpha, beta)\n",
        "\t\t\tbest = min(best, val)\n",
        "\t\t\tbeta = min(beta, best)\n",
        "\n",
        "\t\t\tif beta <= alpha:\n",
        "\t\t\t\tbreak\n",
        "\n",
        "\t\treturn best\n",
        "\n",
        "if __name__ == \"__main__\":\n",
        "\n",
        "\tvalues = [2,4,6,8,1,2,10,12]\n",
        "\tprint(\"The best value among the given values is :\", alphaBeta(0, 0, True, values, mins, maxs))"
      ],
      "metadata": {
        "colab": {
          "base_uri": "https://localhost:8080/"
        },
        "id": "hFSSr_6isgzF",
        "outputId": "e28940ba-93da-4fca-afdf-169d602fadb6"
      },
      "execution_count": 25,
      "outputs": [
        {
          "output_type": "stream",
          "name": "stdout",
          "text": [
            "The best value among the given values is : 4\n"
          ]
        }
      ]
    },
    {
      "cell_type": "markdown",
      "source": [
        "**Task 4:**\n",
        "Implement N-Queen Problem in Constraint Satisfaction Problem."
      ],
      "metadata": {
        "id": "4y-qLwdGvbRX"
      }
    },
    {
      "cell_type": "code",
      "source": [
        "  pip install python-constraint"
      ],
      "metadata": {
        "colab": {
          "base_uri": "https://localhost:8080/"
        },
        "id": "lZSq98zEwLTN",
        "outputId": "522c8111-3f20-4f01-fc5c-e9a2f6d791dc"
      },
      "execution_count": null,
      "outputs": [
        {
          "output_type": "stream",
          "name": "stdout",
          "text": [
            "Collecting python-constraint\n",
            "  Downloading python-constraint-1.4.0.tar.bz2 (18 kB)\n",
            "  Preparing metadata (setup.py) ... \u001b[?25l\u001b[?25hdone\n",
            "Building wheels for collected packages: python-constraint\n",
            "  Building wheel for python-constraint (setup.py) ... \u001b[?25l\u001b[?25hdone\n",
            "  Created wheel for python-constraint: filename=python_constraint-1.4.0-py2.py3-none-any.whl size=24058 sha256=d10ca486d0c036cd6aff801930ebefe4d5ca8b595a3f7b6f87484e6d54ff6c03\n",
            "  Stored in directory: /root/.cache/pip/wheels/2e/f2/2b/cb08b5fe129e4f69b7033061f256e5c551b0aa1160c2872aee\n",
            "Successfully built python-constraint\n",
            "Installing collected packages: python-constraint\n",
            "Successfully installed python-constraint-1.4.0\n"
          ]
        }
      ]
    },
    {
      "cell_type": "code",
      "source": [
        "from constraint import Problem #downloaded earlier\n",
        "\n",
        "def nQueen(n):\n",
        "    problem = Problem()\n",
        "    cols = range(n)\n",
        "    rows = range(n)\n",
        "\n",
        "    problem.addVariables(cols, rows)\n",
        "\n",
        "    for i in range(n):\n",
        "        for j in range(i+1, n):\n",
        "            problem.addConstraint(lambda x, y, i=i, j=j: x != y and abs(x - y) != j - i, (i, j))\n",
        "\n",
        "    solution = problem.getSolution()\n",
        "\n",
        "    return solution\n",
        "\n",
        "def solPrinting(solution): #function for printing the solution of where the nQueens are place on the NxN board\n",
        "    n = len(solution)\n",
        "    for row in range(n):\n",
        "        line = \"\"\n",
        "        for col in range(n):\n",
        "            if solution[col] == row:\n",
        "                line += \"Q \"\n",
        "            else:\n",
        "                line += \"- \"\n",
        "        print(line)\n",
        "    print()\n",
        "\n",
        "if __name__ == \"__main__\":\n",
        "    n =int(input(\"Enter the amount of n-queens you want to create : \"))\n",
        "    solution = nQueen(n)\n",
        "    if solution is None:\n",
        "        print(f\"No solution found for {n}-Queens problem.\")\n",
        "    else:\n",
        "        print(f\"Solution for {n}-Queens problem:\")\n",
        "        solPrinting(solution)\n"
      ],
      "metadata": {
        "colab": {
          "base_uri": "https://localhost:8080/"
        },
        "id": "IkFI5UxfveJG",
        "outputId": "bd34e34c-aa2c-4397-b669-55fb0da261eb"
      },
      "execution_count": null,
      "outputs": [
        {
          "output_type": "stream",
          "name": "stdout",
          "text": [
            "Enter the amount of n-queens you want to create : 4\n",
            "Solution for 4-Queens problem:\n",
            "- Q - - \n",
            "- - - Q \n",
            "Q - - - \n",
            "- - Q - \n",
            "\n"
          ]
        }
      ]
    }
  ],
  "metadata": {
    "colab": {
      "provenance": []
    },
    "kernelspec": {
      "display_name": "Python 3",
      "name": "python3"
    },
    "language_info": {
      "name": "python"
    }
  },
  "nbformat": 4,
  "nbformat_minor": 0
}