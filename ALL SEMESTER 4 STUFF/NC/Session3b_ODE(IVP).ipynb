{
  "nbformat": 4,
  "nbformat_minor": 0,
  "metadata": {
    "colab": {
      "provenance": []
    },
    "kernelspec": {
      "name": "python3",
      "display_name": "Python 3"
    },
    "language_info": {
      "name": "python"
    }
  },
  "cells": [
    {
      "cell_type": "markdown",
      "source": [
        "## Euler's Method"
      ],
      "metadata": {
        "id": "IHSRvj_NjO21"
      }
    },
    {
      "cell_type": "markdown",
      "source": [
        "### Algorithm"
      ],
      "metadata": {
        "id": "zD4QD5vhjV3d"
      }
    },
    {
      "cell_type": "markdown",
      "source": [
        "```\n",
        "Function will take following input:(f,t_initial,t_final,y_initial,h)\n",
        "f(t,y) from y'= f(t,y)\n",
        "t_initial(starting point of domain)\n",
        "t_final(ending point of domain)\n",
        "y_initial(initial condition)\n",
        "h(step size)\n",
        "\n",
        "\n",
        "1 Initialize the initial value of y and the initial time t.\n",
        "\n",
        "2 Set the number of steps n = (t_final - t_initial) / h.\n",
        "\n",
        "3 Loop from i = 1 to i = n:\n",
        "  a. Calculate the slope of the function at the current time and value of y     using the given differential equation.\n",
        "  b. Calculate the new value of y using the formula: y(i) = y(i-1) + h * slope(i-1).\n",
        "  c. Update the value of time t(i) = t(i-1) + h.\n",
        "\n",
        "4 Return the values of time and y at each step.\n",
        "```\n",
        "\n",
        "\n"
      ],
      "metadata": {
        "id": "boUVyVW8kRq4"
      }
    },
    {
      "cell_type": "code",
      "source": [
        "def euler_method(f, t_initial, t_final, y_initial, h):\n",
        "    \"\"\"\n",
        "    Solves the ordinary differential equation y' = f(t, y) using Euler's method with step size h.\n",
        "    Returns arrays of time and y values at each step.\n",
        "    \"\"\"\n",
        "    num_steps = int((t_final - t_initial) / h)\n",
        "    t_values = [t_initial]\n",
        "    y_values = [y_initial]\n",
        "    print('\\n-------SOLUTION-------')\n",
        "    print('----------------------')    \n",
        "    print('#\\ttn\\tyn')\n",
        "    print('----------------------')\n",
        "    for i in range(num_steps):\n",
        "        slope = f(t_values[i], y_values[i])\n",
        "        y_new = y_values[i] + h * slope\n",
        "        t_new = t_values[i] + h\n",
        "        y_values.append(y_new)\n",
        "        t_values.append(t_new)\n",
        "        print('%d\\t%.2f\\t%.4f'% (i+1,t_new,y_new) )\n",
        "        print('----------------------')\n",
        "    return t_values,y_values\n"
      ],
      "metadata": {
        "id": "mUAzfK77jlPx"
      },
      "execution_count": null,
      "outputs": []
    },
    {
      "cell_type": "code",
      "source": [
        "import numpy as np\n",
        "def f(t,y):\n",
        "  return np.exp(t)-y\n",
        "\n",
        "t_E,y_E=euler_method(f, t_initial=0, t_final=1, y_initial=1,h= 0.1)"
      ],
      "metadata": {
        "colab": {
          "base_uri": "https://localhost:8080/"
        },
        "id": "MXCKd-72uvTA",
        "outputId": "29cf011e-f64e-4b99-b693-da50ba94e805"
      },
      "execution_count": null,
      "outputs": [
        {
          "output_type": "stream",
          "name": "stdout",
          "text": [
            "\n",
            "-------SOLUTION-------\n",
            "----------------------\n",
            "#\ttn\tyn\n",
            "----------------------\n",
            "1\t0.10\t1.0000\n",
            "----------------------\n",
            "2\t0.20\t1.0105\n",
            "----------------------\n",
            "3\t0.30\t1.0316\n",
            "----------------------\n",
            "4\t0.40\t1.0634\n",
            "----------------------\n",
            "5\t0.50\t1.1063\n",
            "----------------------\n",
            "6\t0.60\t1.1605\n",
            "----------------------\n",
            "7\t0.70\t1.2267\n",
            "----------------------\n",
            "8\t0.80\t1.3054\n",
            "----------------------\n",
            "9\t0.90\t1.3974\n",
            "----------------------\n",
            "10\t1.00\t1.5036\n",
            "----------------------\n"
          ]
        }
      ]
    },
    {
      "cell_type": "markdown",
      "source": [
        "## RK-4 Method"
      ],
      "metadata": {
        "id": "uM64aIVw2-W5"
      }
    },
    {
      "cell_type": "markdown",
      "source": [
        "### Algorithm"
      ],
      "metadata": {
        "id": "o1haTc3S3EsQ"
      }
    },
    {
      "cell_type": "markdown",
      "source": [
        "To solve:$\\dfrac{dy}{dx}=f(x,y)$\n",
        "\n",
        "$x_{i+1} = x_i + h,\\\\y_{i+1} = y_i + \\frac{1}{6}(k_1+2k_2+2k_3+k_4)h\\\\ k_1 = \\ f(x_i, y_i),\\\\ k_2 =  f(x_i + 0.5h, y_i + 0.5 k_1),\\\\ k_3 =  f(x_i + 0.5h, y_i + 0.5 k_2).\\\\ k_4 = f(x_i + h, y_i + k_3),\n",
        " \\\\ $"
      ],
      "metadata": {
        "id": "LEJr8j6633lV"
      }
    },
    {
      "cell_type": "markdown",
      "source": [
        "```\n",
        "Function will take following input:(f,t_initial,t_final,y_initial,h)\n",
        "f(t,y) from y'= f(t,y)\n",
        "t_initial(starting point of domain)\n",
        "t_final(ending point of domain)\n",
        "y_initial(initial condition)\n",
        "h(step size)\n",
        "\n",
        "\n",
        "1 Initialize the initial value of y and the initial time t.\n",
        "\n",
        "2 Set the number of steps n = (t_final - t_initial) / h.\n",
        "\n",
        "3 Loop from i = 1 to i = n:\n",
        "  a)Calculate\n",
        "      k1 =  f(x0, y0)\n",
        "      k2 =  f(x0+h/2, y0+k1/2)\n",
        "      k3 =  f(x0+h/2, y0+k2/2)\n",
        "      k4 =  f(x0+h, y0+k3)\n",
        "\n",
        "  b) Calculate the new value of y using the formula: y(i) = y(i-1) + (k1+2*k2+2*k3+k4)*h/6\n",
        "  c) Update the value of time t(i) = t(i-1) + h.\n",
        "\n",
        "4 Return the values of time and y at each step.\n",
        "```"
      ],
      "metadata": {
        "id": "GVYq0RDc3Q0V"
      }
    },
    {
      "cell_type": "code",
      "source": [
        "def RK4_method(f, t_initial, t_final, y_initial, h):\n",
        "    \"\"\"\n",
        "    Solves the ordinary differential equation y' = f(t, y) using Euler's method with step size h.\n",
        "    Returns arrays of time and y values at each step.\n",
        "    \"\"\"\n",
        "    num_steps = int((t_final - t_initial) / h)\n",
        "    t_values = [t_initial]\n",
        "    y_values = [y_initial]\n",
        "    print('\\n-------SOLUTION-------')\n",
        "    print('----------------------')    \n",
        "    print('#\\ttn\\tyn')\n",
        "    print('----------------------')\n",
        "    for i in range(num_steps):\n",
        "        k1 = f(t_values[i], y_values[i])\n",
        "        k2 = f(t_values[i]+0.5*h, y_values[i]+0.5*k1)\n",
        "        k3 = f(t_values[i]+h/2, y_values[i]+k2/2)\n",
        "        k4 = f(t_values[i]+h, y_values[i]+k3)\n",
        "        y_new = y_values[i] + (h/6) * (k1+2*k2+2*k3+k4)\n",
        "        t_new = t_values[i] + h\n",
        "        y_values.append(y_new)\n",
        "        t_values.append(t_new)\n",
        "        print('%d\\t%.2f\\t%.4f'% (i+1,t_new,y_new) )\n",
        "        print('----------------------')\n",
        "    return t_values,y_values\n"
      ],
      "metadata": {
        "id": "Qb3jE4DO3ChT"
      },
      "execution_count": null,
      "outputs": []
    },
    {
      "cell_type": "code",
      "source": [
        "import numpy as np\n",
        "def f(t,y):\n",
        "  return np.exp(t)-y\n",
        "\n",
        "t_R,y_R=RK4_method(f, t_initial=0, t_final=1, y_initial=1,h= 0.1)"
      ],
      "metadata": {
        "colab": {
          "base_uri": "https://localhost:8080/"
        },
        "id": "d6NG5mos8UPg",
        "outputId": "0f73072e-be70-4cca-fa5a-7796e2ae8174"
      },
      "execution_count": null,
      "outputs": [
        {
          "output_type": "stream",
          "name": "stdout",
          "text": [
            "\n",
            "-------SOLUTION-------\n",
            "----------------------\n",
            "#\ttn\tyn\n",
            "----------------------\n",
            "1\t0.10\t1.0039\n",
            "----------------------\n",
            "2\t0.20\t1.0145\n",
            "----------------------\n",
            "3\t0.30\t1.0322\n",
            "----------------------\n",
            "4\t0.40\t1.0573\n",
            "----------------------\n",
            "5\t0.50\t1.0903\n",
            "----------------------\n",
            "6\t0.60\t1.1316\n",
            "----------------------\n",
            "7\t0.70\t1.1818\n",
            "----------------------\n",
            "8\t0.80\t1.2416\n",
            "----------------------\n",
            "9\t0.90\t1.3118\n",
            "----------------------\n",
            "10\t1.00\t1.3931\n",
            "----------------------\n"
          ]
        }
      ]
    },
    {
      "cell_type": "markdown",
      "source": [
        "## Library Function to solve ODE(IVP)"
      ],
      "metadata": {
        "id": "ZOmhi-2g8yip"
      }
    },
    {
      "cell_type": "code",
      "source": [
        "import numpy as np\n",
        "from scipy.integrate import solve_ivp\n",
        "def f(t,y):\n",
        "  return np.exp(t)-y\n",
        "sol = solve_ivp(f, [0, 1], [1], t_eval=np.array(np.linspace(0.1,1,10)))\n",
        "t_l=sol.t\n",
        "y_l=sol.y.flatten()\n",
        "print('\\n----Library_SOLUTION-------')\n",
        "print('----------------------')    \n",
        "print('#\\ttn\\tyn')\n",
        "print('----------------------')\n",
        "\n",
        "for i in range(len(t_l)):\n",
        "   print('%d\\t%.2f\\t%.4f'% (i+1,t_l[i],y_l[i]) )\n",
        "   print('----------------------')\n",
        "   "
      ],
      "metadata": {
        "colab": {
          "base_uri": "https://localhost:8080/"
        },
        "id": "_kivz99p85-7",
        "outputId": "9cda2dca-28c5-43b2-f0d0-01bd4c4b41f8"
      },
      "execution_count": null,
      "outputs": [
        {
          "output_type": "stream",
          "name": "stdout",
          "text": [
            "\n",
            "----Library_SOLUTION-------\n",
            "----------------------\n",
            "#\ttn\tyn\n",
            "----------------------\n",
            "1\t0.10\t1.0050\n",
            "----------------------\n",
            "2\t0.20\t1.0200\n",
            "----------------------\n",
            "3\t0.30\t1.0451\n",
            "----------------------\n",
            "4\t0.40\t1.0807\n",
            "----------------------\n",
            "5\t0.50\t1.1272\n",
            "----------------------\n",
            "6\t0.60\t1.1851\n",
            "----------------------\n",
            "7\t0.70\t1.2549\n",
            "----------------------\n",
            "8\t0.80\t1.3374\n",
            "----------------------\n",
            "9\t0.90\t1.4332\n",
            "----------------------\n",
            "10\t1.00\t1.5433\n",
            "----------------------\n"
          ]
        }
      ]
    },
    {
      "cell_type": "markdown",
      "source": [
        "## Plotting "
      ],
      "metadata": {
        "id": "wXwjPVBQANRy"
      }
    },
    {
      "cell_type": "code",
      "source": [
        "import matplotlib.pyplot as plt\n",
        "import numpy as np\n",
        "plt.figure(figsize=(7,5))\n",
        "\n",
        "\n",
        "plt.plot(t_l, y_l, label=\"Numerical solution:\\nLibrary_function_sol\", dashes=(3,2), color=\"red\",lw=3)\n",
        "plt.plot(t_R, y_R, label=\"Numerical solution:\\nRunge-Kutta\", dashes=(3,2), color=\"blue\",lw=3)\n",
        "plt.plot(t_E, y_E, label=\"Numerical solution:\\nEuler\", dashes=(3,2), color=\"green\",lw=3)\n",
        "\n",
        "plt.legend(loc=\"best\", fontsize=12)\n",
        "plt.title(r\"Solution to ODE: $\\quad\\frac{dy}{dx}=exp^t -y$\")\n",
        "plt.xlabel(\"t\", fontsize=12)\n",
        "plt.ylabel(\"y\", fontsize=12)\n",
        "plt.show()\n"
      ],
      "metadata": {
        "colab": {
          "base_uri": "https://localhost:8080/",
          "height": 501
        },
        "id": "e0kcM6fo_NdB",
        "outputId": "d6b03662-f78e-44ec-ba44-676ce14bf709"
      },
      "execution_count": null,
      "outputs": [
        {
          "output_type": "display_data",
          "data": {
            "text/plain": [
              "<Figure size 700x500 with 1 Axes>"
            ],
            "image/png": "[encoded data removed]"
          },
          "metadata": {}
        }
      ]
    },
    {
      "cell_type": "markdown",
      "source": [
        "##Lab Task\n",
        "```\n",
        "1- Write the program for Heun's Method.\n",
        "2- Write the code to make a table to compare error of Heun's, Euler's, RK4 by using analytical solution.\n",
        "3- Repeat task 2 for three different DEs.\n",
        "\n"
      ],
      "metadata": {
        "id": "aNuAz9RtFrWM"
      }
    }
  ]
}