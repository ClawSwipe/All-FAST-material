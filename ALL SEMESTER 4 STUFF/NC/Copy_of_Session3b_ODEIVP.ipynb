{
  "nbformat": 4,
  "nbformat_minor": 0,
  "metadata": {
    "colab": {
      "provenance": []
    },
    "kernelspec": {
      "name": "python3",
      "display_name": "Python 3"
    },
    "language_info": {
      "name": "python"
    }
  },
  "cells": [
    {
      "cell_type": "markdown",
      "source": [
        "## Euler's Method"
      ],
      "metadata": {
        "id": "IHSRvj_NjO21"
      }
    },
    {
      "cell_type": "markdown",
      "source": [
        "### Algorithm"
      ],
      "metadata": {
        "id": "zD4QD5vhjV3d"
      }
    },
    {
      "cell_type": "markdown",
      "source": [
        "```\n",
        "Function will take following input:(f,t_initial,t_final,y_initial,h)\n",
        "f(t,y) from y'= f(t,y)\n",
        "t_initial(starting point of domain)\n",
        "t_final(ending point of domain)\n",
        "y_initial(initial condition)\n",
        "h(step size)\n",
        "\n",
        "\n",
        "1 Initialize the initial value of y and the initial time t.\n",
        "\n",
        "2 Set the number of steps n = (t_final - t_initial) / h.\n",
        "\n",
        "3 Loop from i = 1 to i = n:\n",
        "  a. Calculate the slope of the function at the current time and value of y     using the given differential equation.\n",
        "  b. Calculate the new value of y using the formula: y(i) = y(i-1) + h * slope(i-1).\n",
        "  c. Update the value of time t(i) = t(i-1) + h.\n",
        "\n",
        "4 Return the values of time and y at each step.\n",
        "```\n",
        "\n",
        "\n"
      ],
      "metadata": {
        "id": "boUVyVW8kRq4"
      }
    },
    {
      "cell_type": "code",
      "source": [
        "def euler_method(f, t_initial, t_final, y_initial, h):\n",
        "    \"\"\"\n",
        "    Solves the ordinary differential equation y' = f(t, y) using Euler's method with step size h.\n",
        "    Returns arrays of time and y values at each step.\n",
        "    \"\"\"\n",
        "    num_steps = int((t_final - t_initial) / h)\n",
        "    t_values = [t_initial]\n",
        "    y_values = [y_initial]\n",
        "    print('\\n-------SOLUTION-------')\n",
        "    print('----------------------')    \n",
        "    print('#\\ttn\\tyn')\n",
        "    print('----------------------')\n",
        "    for i in range(num_steps):\n",
        "        slope = f(t_values[i], y_values[i])\n",
        "        y_new = y_values[i] + h * slope\n",
        "        t_new = t_values[i] + h\n",
        "        y_values.append(y_new)\n",
        "        t_values.append(t_new)\n",
        "        print('%d\\t%.2f\\t%.4f'% (i+1,t_new,y_new) )\n",
        "        print('----------------------')\n",
        "    return t_values,y_values\n"
      ],
      "metadata": {
        "id": "mUAzfK77jlPx"
      },
      "execution_count": null,
      "outputs": []
    },
    {
      "cell_type": "code",
      "source": [
        "import numpy as np\n",
        "def f(t,y):\n",
        "  return np.exp(t)-y\n",
        "\n",
        "t_E,y_E=euler_method(f, 0, 1, 1,0.1)"
      ],
      "metadata": {
        "colab": {
          "base_uri": "https://localhost:8080/"
        },
        "id": "MXCKd-72uvTA",
        "outputId": "fa21d27b-963c-42fd-9e85-56f41456f9b5"
      },
      "execution_count": null,
      "outputs": [
        {
          "output_type": "stream",
          "name": "stdout",
          "text": [
            "\n",
            "-------SOLUTION-------\n",
            "----------------------\n",
            "#\ttn\tyn\n",
            "----------------------\n",
            "1\t0.10\t1.0000\n",
            "----------------------\n",
            "2\t0.20\t1.0105\n",
            "----------------------\n",
            "3\t0.30\t1.0316\n",
            "----------------------\n",
            "4\t0.40\t1.0634\n",
            "----------------------\n",
            "5\t0.50\t1.1063\n",
            "----------------------\n",
            "6\t0.60\t1.1605\n",
            "----------------------\n",
            "7\t0.70\t1.2267\n",
            "----------------------\n",
            "8\t0.80\t1.3054\n",
            "----------------------\n",
            "9\t0.90\t1.3974\n",
            "----------------------\n",
            "10\t1.00\t1.5036\n",
            "----------------------\n"
          ]
        }
      ]
    },
    {
      "cell_type": "code",
      "source": [
        "y_E"
      ],
      "metadata": {
        "id": "q7Q8NC7WBSJN",
        "outputId": "b51684b3-003e-4335-a660-884aa9201a1d",
        "colab": {
          "base_uri": "https://localhost:8080/"
        }
      },
      "execution_count": null,
      "outputs": [
        {
          "output_type": "execute_result",
          "data": {
            "text/plain": [
              "[1,\n",
              " 1.0,\n",
              " 1.0105170918075648,\n",
              " 1.0316056584428253,\n",
              " 1.0634309733561431,\n",
              " 1.1062703457846559,\n",
              " 1.160515438276203,\n",
              " 1.2266757744876338,\n",
              " 1.305383467785918,\n",
              " 1.397399213856573,\n",
              " 1.5036196035866105]"
            ]
          },
          "metadata": {},
          "execution_count": 20
        }
      ]
    },
    {
      "cell_type": "code",
      "source": [
        "import numpy as np\n",
        "def f1(t,y):\n",
        "  return np.exp(t-y)"
      ],
      "metadata": {
        "id": "RUf7uFX6iHBc"
      },
      "execution_count": null,
      "outputs": []
    },
    {
      "cell_type": "code",
      "source": [
        "t_d,y_d=euler_method(f1, 0, 1, 1,0.25)"
      ],
      "metadata": {
        "colab": {
          "base_uri": "https://localhost:8080/"
        },
        "id": "9BmSxohqiM9q",
        "outputId": "f44429eb-5d2c-4b9b-b5ff-f49c9c698b86"
      },
      "execution_count": null,
      "outputs": [
        {
          "output_type": "stream",
          "name": "stdout",
          "text": [
            "\n",
            "-------SOLUTION-------\n",
            "----------------------\n",
            "#\ttn\tyn\n",
            "----------------------\n",
            "1\t0.25\t1.0920\n",
            "----------------------\n",
            "2\t0.50\t1.1997\n",
            "----------------------\n",
            "3\t0.75\t1.3239\n",
            "----------------------\n",
            "4\t1.00\t1.4647\n",
            "----------------------\n"
          ]
        }
      ]
    },
    {
      "cell_type": "markdown",
      "source": [
        "## RK-4 Method"
      ],
      "metadata": {
        "id": "uM64aIVw2-W5"
      }
    },
    {
      "cell_type": "markdown",
      "source": [
        "### Algorithm"
      ],
      "metadata": {
        "id": "o1haTc3S3EsQ"
      }
    },
    {
      "cell_type": "markdown",
      "source": [
        "To solve:$\\dfrac{dy}{dx}=f(x,y)$\n",
        "\n",
        "$x_{i+1} = x_i + h,\\\\y_{i+1} = y_i + \\frac{1}{6}(k_1+2k_2+2k_3+k_4)h\\\\ k_1 = \\ f(x_i, y_i),\\\\ k_2 =  f(x_i + 0.5h, y_i + 0.5 k_1),\\\\ k_3 =  f(x_i + 0.5h, y_i + 0.5 k_2).\\\\ k_4 = f(x_i + h, y_i + k_3),\n",
        " \\\\ $"
      ],
      "metadata": {
        "id": "LEJr8j6633lV"
      }
    },
    {
      "cell_type": "markdown",
      "source": [
        "```\n",
        "Function will take following input:(f,t_initial,t_final,y_initial,h)\n",
        "f(t,y) from y'= f(t,y)\n",
        "t_initial(starting point of domain)\n",
        "t_final(ending point of domain)\n",
        "y_initial(initial condition)\n",
        "h(step size)\n",
        "\n",
        "\n",
        "1 Initialize the initial value of y and the initial time t.\n",
        "\n",
        "2 Set the number of steps n = (t_final - t_initial) / h.\n",
        "\n",
        "3 Loop from i = 1 to i = n:\n",
        "  a)Calculate\n",
        "      k1 =  f(x0, y0)\n",
        "      k2 =  f(x0+h/2, y0+k1/2)\n",
        "      k3 =  f(x0+h/2, y0+k2/2)\n",
        "      k4 =  f(x0+h, y0+k3)\n",
        "\n",
        "  b) Calculate the new value of y using the formula: y(i) = y(i-1) + (k1+2*k2+2*k3+k4)*h/6\n",
        "  c) Update the value of time t(i) = t(i-1) + h.\n",
        "\n",
        "4 Return the values of time and y at each step.\n",
        "```"
      ],
      "metadata": {
        "id": "GVYq0RDc3Q0V"
      }
    },
    {
      "cell_type": "code",
      "source": [
        "def RK4_method(f, t_initial, t_final, y_initial, h):\n",
        "    \"\"\"\n",
        "    Solves the ordinary differential equation y' = f(t, y) using Euler's method with step size h.\n",
        "    Returns arrays of time and y values at each step.\n",
        "    \"\"\"\n",
        "    num_steps = int((t_final - t_initial) / h)\n",
        "    t_values = [t_initial]\n",
        "    y_values = [y_initial]\n",
        "    print('\\n-------SOLUTION-------')\n",
        "    print('----------------------')    \n",
        "    print('#\\ttn\\tyn')\n",
        "    print('----------------------')\n",
        "    for i in range(num_steps):\n",
        "        k1 = f(t_values[i], y_values[i])\n",
        "        k2 = f(t_values[i]+0.5*h, y_values[i]+0.5*k1*h)\n",
        "        k3 = f(t_values[i]+h/2, y_values[i]+h*k2/2)\n",
        "        k4 = f(t_values[i]+h, y_values[i]+h*k3)\n",
        "        y_new = y_values[i] + (h/6) * (k1+2*k2+2*k3+k4)\n",
        "        t_new = t_values[i] + h\n",
        "        y_values.append(y_new)\n",
        "        t_values.append(t_new)\n",
        "        print('%d\\t%.2f\\t%.4f'% (i+1,t_new,y_new) )\n",
        "        print('----------------------')\n",
        "    return t_values,y_values\n"
      ],
      "metadata": {
        "id": "Qb3jE4DO3ChT"
      },
      "execution_count": null,
      "outputs": []
    },
    {
      "cell_type": "code",
      "source": [
        "import numpy as np\n",
        "def f(t,y):\n",
        "  return np.exp(t)-y\n",
        "\n",
        "t_R,y_R=RK4_method(f, t_initial=0, t_final=1, y_initial=1,h= 0.1)"
      ],
      "metadata": {
        "colab": {
          "base_uri": "https://localhost:8080/"
        },
        "id": "d6NG5mos8UPg",
        "outputId": "0cac42ac-9421-4962-d84d-08448b00611a"
      },
      "execution_count": null,
      "outputs": [
        {
          "output_type": "stream",
          "name": "stdout",
          "text": [
            "\n",
            "-------SOLUTION-------\n",
            "----------------------\n",
            "#\ttn\tyn\n",
            "----------------------\n",
            "1\t0.10\t1.0050\n",
            "----------------------\n",
            "2\t0.20\t1.0201\n",
            "----------------------\n",
            "3\t0.30\t1.0453\n",
            "----------------------\n",
            "4\t0.40\t1.0811\n",
            "----------------------\n",
            "5\t0.50\t1.1276\n",
            "----------------------\n",
            "6\t0.60\t1.1855\n",
            "----------------------\n",
            "7\t0.70\t1.2552\n",
            "----------------------\n",
            "8\t0.80\t1.3374\n",
            "----------------------\n",
            "9\t0.90\t1.4331\n",
            "----------------------\n",
            "10\t1.00\t1.5431\n",
            "----------------------\n"
          ]
        }
      ]
    },
    {
      "cell_type": "markdown",
      "source": [
        "## Library Function to solve ODE(IVP)"
      ],
      "metadata": {
        "id": "ZOmhi-2g8yip"
      }
    },
    {
      "cell_type": "code",
      "source": [
        "import numpy as np\n",
        "from scipy.integrate import solve_ivp\n",
        "def f(t,y):\n",
        "  return np.exp(t-y)\n",
        "sol = solve_ivp(f, [0, 1], [1], t_eval=np.array(np.linspace(0.1,1,10)))\n",
        "t_l=sol.t\n",
        "y_l=sol.y.flatten()\n",
        "print('\\n----Library_SOLUTION-------')\n",
        "print('----------------------')    \n",
        "print('#\\ttn\\tyn')\n",
        "print('----------------------')\n",
        "\n",
        "for i in range(len(t_l)):\n",
        "   print('%d\\t%.2f\\t%.4f'% (i+1,t_l[i],y_l[i]) )\n",
        "   print('----------------------')\n",
        "   "
      ],
      "metadata": {
        "colab": {
          "base_uri": "https://localhost:8080/"
        },
        "id": "_kivz99p85-7",
        "outputId": "e95180bc-7b8b-4171-b01b-eb1edbc10b40"
      },
      "execution_count": null,
      "outputs": [
        {
          "output_type": "stream",
          "name": "stdout",
          "text": [
            "\n",
            "----Library_SOLUTION-------\n",
            "----------------------\n",
            "#\ttn\tyn\n",
            "----------------------\n",
            "1\t0.10\t1.0380\n",
            "----------------------\n",
            "2\t0.20\t1.0783\n",
            "----------------------\n",
            "3\t0.30\t1.1211\n",
            "----------------------\n",
            "4\t0.40\t1.1663\n",
            "----------------------\n",
            "5\t0.50\t1.2140\n",
            "----------------------\n",
            "6\t0.60\t1.2642\n",
            "----------------------\n",
            "7\t0.70\t1.3169\n",
            "----------------------\n",
            "8\t0.80\t1.3721\n",
            "----------------------\n",
            "9\t0.90\t1.4298\n",
            "----------------------\n",
            "10\t1.00\t1.4899\n",
            "----------------------\n"
          ]
        }
      ]
    },
    {
      "cell_type": "code",
      "source": [
        "t_l=sol.t\n",
        "print(t_l)"
      ],
      "metadata": {
        "colab": {
          "base_uri": "https://localhost:8080/"
        },
        "id": "0gFcjtZF62uy",
        "outputId": "4bf03351-d970-464a-c86f-5a9753efce1a"
      },
      "execution_count": null,
      "outputs": [
        {
          "output_type": "stream",
          "name": "stdout",
          "text": [
            "[0.1 0.2 0.3 0.4 0.5 0.6 0.7 0.8 0.9 1. ]\n"
          ]
        }
      ]
    },
    {
      "cell_type": "code",
      "source": [
        "import numpy as np\n",
        "from scipy.integrate import solve_ivp\n",
        "def f(t,y):\n",
        "  return np.exp(t)-y\n",
        "sol = solve_ivp(f, [0, 1], [1], t_eval=np.array(np.linspace(0.1,1,10)))\n",
        "print(sol.y.flatten())\n",
        "print(sol.t)\n",
        "y_l=sol.y.flatten()\n",
        "t_l=sol.t"
      ],
      "metadata": {
        "colab": {
          "base_uri": "https://localhost:8080/"
        },
        "id": "LceRWwe9QyLj",
        "outputId": "e86e9569-a306-419d-946d-58b24b810d63"
      },
      "execution_count": null,
      "outputs": [
        {
          "output_type": "stream",
          "name": "stdout",
          "text": [
            "[1.00500417 1.0200103  1.04514216 1.08073618 1.12721258 1.18507425\n",
            " 1.25490676 1.33737837 1.43324001 1.54332529]\n",
            "[0.1 0.2 0.3 0.4 0.5 0.6 0.7 0.8 0.9 1. ]\n"
          ]
        }
      ]
    },
    {
      "cell_type": "markdown",
      "source": [
        "## Plotting "
      ],
      "metadata": {
        "id": "wXwjPVBQANRy"
      }
    },
    {
      "cell_type": "code",
      "source": [
        "import matplotlib.pyplot as plt\n",
        "import numpy as np\n",
        "plt.figure(figsize=(7,5))\n",
        "\n",
        "\n",
        "plt.plot(t_l, y_l, label=\"Numerical solution:\\nLibrary_function_sol\", dashes=(3,2), color=\"red\",lw=3)\n",
        "plt.plot(t_R, y_R, label=\"Numerical solution:\\nRunge-Kutta\", dashes=(3,2), color=\"blue\",lw=3)\n",
        "plt.plot(t_E, y_E, label=\"Numerical solution:\\nEuler\", dashes=(3,2), color=\"green\",lw=3)\n",
        "\n",
        "plt.legend(loc=\"best\", fontsize=12)\n",
        "plt.title(r\"Solution to ODE: $\\quad\\frac{dy}{dx}=e^t -y$\")\n",
        "plt.xlabel(\"t\", fontsize=12)\n",
        "plt.ylabel(\"y\", fontsize=12)\n",
        "plt.show()\n"
      ],
      "metadata": {
        "colab": {
          "base_uri": "https://localhost:8080/",
          "height": 501
        },
        "id": "e0kcM6fo_NdB",
        "outputId": "fea5992c-2012-434c-e967-87a552f09153"
      },
      "execution_count": null,
      "outputs": [
        {
          "output_type": "display_data",
          "data": {
            "text/plain": [
              "<Figure size 700x500 with 1 Axes>"
            ],
            "image/png": "[encoded data removed]"
          },
          "metadata": {}
        }
      ]
    },
    {
      "cell_type": "markdown",
      "source": [
        "##Lab Task\n",
        "```\n",
        "1- Write the program for Heun's Method.\n",
        "2- Write the code to make a table to compare error of Heun's, Euler's, RK4 by using analytical solution.\n",
        "3- Repeat task 2 for three different DEs.\n",
        "\n"
      ],
      "metadata": {
        "id": "aNuAz9RtFrWM"
      }
    },
    {
      "cell_type": "markdown",
      "source": [
        "##Task 1"
      ],
      "metadata": {
        "id": "jXgb97UmIVfT"
      }
    },
    {
      "cell_type": "code",
      "source": [
        "import numpy as np\n",
        "\n",
        "def func(eq, t0, tx, y0, h):\n",
        "    n = int((tx-t0)/h)\n",
        "    t = [t0]\n",
        "    y = [y0]\n",
        "\n",
        "    for i in range (0,n,1):\n",
        "        k1 = eq(t[i], y[i])\n",
        "        k2 = eq(t[i]+h, y[i] * h+k1)\n",
        "        yn1 = y[i] + (h/2)*(k1 + k2)\n",
        "        tn1 = t[i] + h\n",
        "        y.append(yn1)\n",
        "        t.append(tn1)\n",
        "        print('%d\\t%.2f\\t%.4f'% (i+1,tn1,yn1) )\n",
        "        print('----------------------')\n",
        "    return (t, y) #tuple containing two arrays (t,y)\n",
        "\n",
        "def eq(t, y):\n",
        "    return np.exp(t)-y\n",
        "\n",
        "ans = func(eq, 0, 5, 10, 0.5)"
      ],
      "metadata": {
        "colab": {
          "base_uri": "https://localhost:8080/"
        },
        "id": "XsTPY0VUC2l3",
        "outputId": "621b26dc-aeec-401d-d567-ba8f42c398b3"
      },
      "execution_count": null,
      "outputs": [
        {
          "output_type": "stream",
          "name": "stdout",
          "text": [
            "1\t0.50\t9.1622\n",
            "----------------------\n",
            "2\t1.00\t8.6965\n",
            "----------------------\n",
            "3\t1.50\t8.7298\n",
            "----------------------\n",
            "4\t2.00\t9.4859\n",
            "----------------------\n",
            "5\t2.50\t11.3458\n",
            "----------------------\n",
            "6\t3.00\t14.9489\n",
            "----------------------\n",
            "7\t3.50\t21.3592\n",
            "----------------------\n",
            "8\t4.00\t32.3388\n",
            "----------------------\n",
            "9\t4.50\t50.8007\n",
            "----------------------\n",
            "10\t5.00\t81.5539\n",
            "----------------------\n"
          ]
        }
      ]
    },
    {
      "cell_type": "markdown",
      "source": [
        "##Task 2"
      ],
      "metadata": {
        "id": "VQX45iS2IcuP"
      }
    },
    {
      "cell_type": "code",
      "source": [
        "from tabulate import tabulate\n",
        "import numpy as np\n",
        "from scipy.integrate import solve_ivp\n",
        "import numpy as np\n",
        "\n",
        "def compareFunc(f, t0, tx, y0, h):\n",
        "  n = int((tx - t0) / h)\n",
        "  data=[]\n",
        "\n",
        "  sol = solve_ivp(f, [0, 1], [1], t_eval=np.array(np.linspace(t0+h, tx, n)))\n",
        "  ya=sol.y.flatten()\n",
        "  yl=np.insert(ya,0,y0)\n",
        "  te,ye=euler_method(f, t0, tx, y0, h)\n",
        "  th,yh=func(f, t0, tx, y0, h)\n",
        "  trk4,yrk4=RK4_method(f, t0, tx, y0, h)\n",
        " \n",
        "  error1 = abs(yl - ye)\n",
        "  error2 = abs(yl - yh)\n",
        "  error3 = abs(yl - yrk4)\n",
        "\n",
        "  print('\\n\\t\\t\\tERRORS')\n",
        "  print('--------------------------------------------------------------')\n",
        "  print('n\\tStep\\tEuler\\t\\tHeun\\t\\tRK4')\n",
        "  print('--------------------------------------------------------------')\n",
        "  for i in range(len(te)):\n",
        "        print('%d\\t%.2f\\t%.6f\\t%.6f\\t%.6f' % (i+1, te[i], error1[i], error2[i], error3[i]))\n",
        "        print('--------------------------------------------------------------')\n",
        "\n",
        "  if(error1.all()<error2.all() and error1.all()<error3.all()):\n",
        "    print(\"Method with least error is Euler\")\n",
        "  elif(error2.all()<error1.all() and error2.all()<error3.all()):\n",
        "    print(\"Method with least error is Hueuns\")\n",
        "  else:\n",
        "    print(\"Method with least error is RK4\")\n",
        "\n",
        "compareFunc(eq, 0, 1, 1, 0.5)"
      ],
      "metadata": {
        "colab": {
          "base_uri": "https://localhost:8080/"
        },
        "id": "zm7wKqCpE4I5",
        "outputId": "cea1836e-7d77-4033-a047-7d94343b99be"
      },
      "execution_count": null,
      "outputs": [
        {
          "output_type": "stream",
          "name": "stdout",
          "text": [
            "\n",
            "-------SOLUTION-------\n",
            "----------------------\n",
            "#\ttn\tyn\n",
            "----------------------\n",
            "1\t0.50\t1.0000\n",
            "----------------------\n",
            "2\t1.00\t1.3244\n",
            "----------------------\n",
            "1\t0.50\t1.2872\n",
            "----------------------\n",
            "2\t1.00\t1.8059\n",
            "----------------------\n",
            "\n",
            "-------SOLUTION-------\n",
            "----------------------\n",
            "#\ttn\tyn\n",
            "----------------------\n",
            "1\t0.50\t1.1280\n",
            "----------------------\n",
            "2\t1.00\t1.5439\n",
            "----------------------\n",
            "\n",
            "\t\t\tERRORS\n",
            "--------------------------------------------------------------\n",
            "n\tStep\tEuler\t\tHeun\t\tRK4\n",
            "--------------------------------------------------------------\n",
            "1\t0.00\t0.000000\t0.000000\t0.000000\n",
            "--------------------------------------------------------------\n",
            "2\t0.50\t0.127213\t0.159968\t0.000812\n",
            "--------------------------------------------------------------\n",
            "3\t1.00\t0.218965\t0.262528\t0.000530\n",
            "--------------------------------------------------------------\n",
            "Method with least error is RK4\n"
          ]
        }
      ]
    },
    {
      "cell_type": "markdown",
      "source": [
        "##Task 3"
      ],
      "metadata": {
        "id": "hjAR_NCqIfEt"
      }
    },
    {
      "cell_type": "code",
      "source": [
        "def eq1(t, y):\n",
        "    return y**t\n",
        "def eq2(t, y):\n",
        "    return t**y\n",
        "def eq3(t, y):\n",
        "    return (y-1)**2-t\n",
        "\n",
        "compareFunc(eq1, 0, 1, 1, 0.25)\n",
        "compareFunc(eq2, 0, 1, 1, 0.25)\n",
        "compareFunc(eq3, 0, 1, 1, 0.25)"
      ],
      "metadata": {
        "colab": {
          "base_uri": "https://localhost:8080/"
        },
        "id": "OTUyeHGOHFOd",
        "outputId": "1c755b8e-3f22-418e-94a0-8d7a7cb50258"
      },
      "execution_count": null,
      "outputs": [
        {
          "output_type": "stream",
          "name": "stdout",
          "text": [
            "\n",
            "-------SOLUTION-------\n",
            "----------------------\n",
            "#\ttn\tyn\n",
            "----------------------\n",
            "1\t0.25\t1.2500\n",
            "----------------------\n",
            "2\t0.50\t1.5143\n",
            "----------------------\n",
            "3\t0.75\t1.8220\n",
            "----------------------\n",
            "4\t1.00\t2.2140\n",
            "----------------------\n",
            "1\t0.25\t1.2572\n",
            "----------------------\n",
            "2\t0.50\t1.5360\n",
            "----------------------\n",
            "3\t0.75\t1.8707\n",
            "----------------------\n",
            "4\t1.00\t2.3291\n",
            "----------------------\n",
            "\n",
            "-------SOLUTION-------\n",
            "----------------------\n",
            "#\ttn\tyn\n",
            "----------------------\n",
            "1\t0.25\t1.2549\n",
            "----------------------\n",
            "2\t0.50\t1.5394\n",
            "----------------------\n",
            "3\t0.75\t1.8907\n",
            "----------------------\n",
            "4\t1.00\t2.3773\n",
            "----------------------\n",
            "\n",
            "\t\t\tERRORS\n",
            "--------------------------------------------------------------\n",
            "n\tStep\tEuler\t\tHeun\t\tRK4\n",
            "--------------------------------------------------------------\n",
            "1\t0.00\t0.000000\t0.000000\t0.000000\n",
            "--------------------------------------------------------------\n",
            "2\t0.25\t0.006195\t0.000977\t0.001282\n",
            "--------------------------------------------------------------\n",
            "3\t0.50\t0.026156\t0.004489\t0.001148\n",
            "--------------------------------------------------------------\n",
            "4\t0.75\t0.066814\t0.018101\t0.001923\n",
            "--------------------------------------------------------------\n",
            "5\t1.00\t0.163178\t0.048170\t0.000071\n",
            "--------------------------------------------------------------\n",
            "Method with least error is RK4\n",
            "\n",
            "-------SOLUTION-------\n",
            "----------------------\n",
            "#\ttn\tyn\n",
            "----------------------\n",
            "1\t0.25\t1.0000\n",
            "----------------------\n",
            "2\t0.50\t1.0625\n",
            "----------------------\n",
            "3\t0.75\t1.1822\n",
            "----------------------\n",
            "4\t1.00\t1.3601\n",
            "----------------------\n",
            "1\t0.25\t1.0884\n",
            "----------------------\n",
            "2\t0.50\t1.2048\n",
            "----------------------\n",
            "3\t0.75\t1.3602\n",
            "----------------------\n",
            "4\t1.00\t1.5698\n",
            "----------------------\n",
            "\n",
            "-------SOLUTION-------\n",
            "----------------------\n",
            "#\ttn\tyn\n",
            "----------------------\n",
            "1\t0.25\t1.0305\n",
            "----------------------\n",
            "2\t0.50\t1.1182\n",
            "----------------------\n",
            "3\t0.75\t1.2619\n",
            "----------------------\n",
            "4\t1.00\t1.4716\n",
            "----------------------\n",
            "\n",
            "\t\t\tERRORS\n",
            "--------------------------------------------------------------\n",
            "n\tStep\tEuler\t\tHeun\t\tRK4\n",
            "--------------------------------------------------------------\n",
            "1\t0.00\t0.000000\t0.000000\t0.000000\n",
            "--------------------------------------------------------------\n",
            "2\t0.25\t0.030703\t0.057686\t0.000213\n",
            "--------------------------------------------------------------\n",
            "3\t0.50\t0.055977\t0.086360\t0.000305\n",
            "--------------------------------------------------------------\n",
            "4\t0.75\t0.079548\t0.098491\t0.000192\n",
            "--------------------------------------------------------------\n",
            "5\t1.00\t0.111422\t0.098213\t0.000075\n",
            "--------------------------------------------------------------\n",
            "Method with least error is RK4\n",
            "\n",
            "-------SOLUTION-------\n",
            "----------------------\n",
            "#\ttn\tyn\n",
            "----------------------\n",
            "1\t0.25\t1.0000\n",
            "----------------------\n",
            "2\t0.50\t0.9375\n",
            "----------------------\n",
            "3\t0.75\t0.8135\n",
            "----------------------\n",
            "4\t1.00\t0.6347\n",
            "----------------------\n",
            "1\t0.25\t1.0391\n",
            "----------------------\n",
            "2\t0.50\t1.0677\n",
            "----------------------\n",
            "3\t0.75\t1.1007\n",
            "----------------------\n",
            "4\t1.00\t1.1514\n",
            "----------------------\n",
            "\n",
            "-------SOLUTION-------\n",
            "----------------------\n",
            "#\ttn\tyn\n",
            "----------------------\n",
            "1\t0.25\t0.9688\n",
            "----------------------\n",
            "2\t0.50\t0.8766\n",
            "----------------------\n",
            "3\t0.75\t0.7301\n",
            "----------------------\n",
            "4\t1.00\t0.5445\n",
            "----------------------\n",
            "\n",
            "\t\t\tERRORS\n",
            "--------------------------------------------------------------\n",
            "n\tStep\tEuler\t\tHeun\t\tRK4\n",
            "--------------------------------------------------------------\n",
            "1\t0.00\t0.000000\t0.000000\t0.000000\n",
            "--------------------------------------------------------------\n",
            "2\t0.25\t0.031227\t0.070289\t0.000038\n",
            "--------------------------------------------------------------\n",
            "3\t0.50\t0.061107\t0.191303\t0.000168\n",
            "--------------------------------------------------------------\n",
            "4\t0.75\t0.083431\t0.370623\t0.000005\n",
            "--------------------------------------------------------------\n",
            "5\t1.00\t0.090094\t0.606773\t0.000098\n",
            "--------------------------------------------------------------\n",
            "Method with least error is RK4\n"
          ]
        }
      ]
    }
  ]
}