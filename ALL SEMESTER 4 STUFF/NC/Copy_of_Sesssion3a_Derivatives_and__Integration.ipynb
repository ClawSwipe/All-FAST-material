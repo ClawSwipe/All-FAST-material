{
  "nbformat": 4,
  "nbformat_minor": 0,
  "metadata": {
    "colab": {
      "provenance": []
    },
    "kernelspec": {
      "name": "python3",
      "display_name": "Python 3"
    },
    "language_info": {
      "name": "python"
    }
  },
  "cells": [
    {
      "cell_type": "markdown",
      "source": [
        "## **Objectives of Session3a_Derivatives_and_Integration:**\n",
        "\n",
        "1-To understand how to take derivatives and integrals by using library functions of python.<br>\n",
        "2-To implement Numerical Differenciation methods to find values of f'(x) for a given table of x and f(x).<br>\n",
        "3-To implement Numerical Integration methods to find values of definite integrals and their error bound by a specific method. "
      ],
      "metadata": {
        "id": "DJ_n7DUfNe1_"
      }
    },
    {
      "cell_type": "markdown",
      "source": [
        "## **How to take derivative in python:**"
      ],
      "metadata": {
        "id": "Udo660Kli4GV"
      }
    },
    {
      "cell_type": "code",
      "execution_count": null,
      "metadata": {
        "id": "9Cf90Q7ihY6r"
      },
      "outputs": [],
      "source": [
        "import numpy as np\n",
        "from sympy import* #Call Library of sympy\n",
        "x = symbols('x')   #Make x a symbol  \n",
        "f = 2*x**2+5       #Function to take derivative\n",
        "\n",
        "df = diff(f, x,1)    #diff(f,x,1) is used to take first derivative of f w.r.t x\n",
        "#df = diff(f, x,n)    #diff(f,x,n) is used to take nth derivative of f w.r.t x\n",
        "print(df)\n",
        "print(float(df.subs(x,1))) #df.subs(x,1) is used to substitute value of x=1 in above taken derivative"
      ]
    },
    {
      "cell_type": "code",
      "source": [
        "# another procedure for finding  derivative\n",
        "y=sin(x)-x\n",
        "derivative_y=y.diff(x) #differentiate y w.r.t x\n",
        "print(derivative_y)"
      ],
      "metadata": {
        "id": "R-gXmc_hNzRQ"
      },
      "execution_count": null,
      "outputs": []
    },
    {
      "cell_type": "markdown",
      "source": [
        "**How to convert a sympy symbolic expression into numpy function to evaluate it on a point or array**."
      ],
      "metadata": {
        "id": "oxasjMMgjzFs"
      }
    },
    {
      "cell_type": "code",
      "source": [
        "f1=lambdify(x,f) #Now f1 is numpy function\n",
        "print(f1(1)) #f1 at 1, you can also evaluate f1 at an array.\n",
        "df1=lambdify(x,df)\n",
        "print(df1(1)) "
      ],
      "metadata": {
        "id": "zdcizRVAjv1m"
      },
      "execution_count": null,
      "outputs": []
    },
    {
      "cell_type": "markdown",
      "source": [
        "**Task1**\n",
        "```\n",
        "a)Use above two procedures to find the second derivative of f(x)=x**2 exp(-x).\n",
        "b)Convert symbolic expression in part (a) into numpy function.\n",
        "c)Evaluate the numpy function (obtained in part b)at a single value and at an array.\n",
        "\n",
        "\n",
        "\n",
        "```\n",
        "\n",
        "\n"
      ],
      "metadata": {
        "id": "QmakryHVOsXW"
      }
    },
    {
      "cell_type": "code",
      "source": [
        "x = symbols('x')     \n",
        "f = x**2*exp(-x)   \n",
        "df = diff(f, x, 2)      \n",
        "print(df)\n",
        "print(float(df.subs(x,1)))"
      ],
      "metadata": {
        "id": "qi6Tl1oCJai_"
      },
      "execution_count": null,
      "outputs": []
    },
    {
      "cell_type": "code",
      "source": [
        "f1=lambdify(x,f)\n",
        "print(f1(1))\n",
        "df1=lambdify(x,df)\n",
        "# At a single point\n",
        "print(df1(1)) \n",
        "\n",
        "array = np.array([1, 2, 3])\n",
        "result = f1(array)\n",
        "#At an array\n",
        "print(result)"
      ],
      "metadata": {
        "id": "ZZmhWFwZJzFK"
      },
      "execution_count": null,
      "outputs": []
    },
    {
      "cell_type": "markdown",
      "source": [
        "## **Coding of some Numerical differentiation formulae**"
      ],
      "metadata": {
        "id": "nla6-ZUPv497"
      }
    },
    {
      "cell_type": "markdown",
      "source": [
        "### **Code of forward difference formula**\n",
        "\n",
        "### Forward Differnce \n",
        "• $f'(x_0) =\\dfrac{f(x_0+h)-f(x_0)}{h}$\n",
        "\n",
        "### Backward Differnce \n",
        "• $f'(x_0) =\\dfrac{f(x_0)-f(x_0-h)}{h}$\n",
        "\n"
      ],
      "metadata": {
        "id": "fUgK1xJhvtGq"
      }
    },
    {
      "cell_type": "code",
      "source": [
        "# code of forward difference formula.\n",
        "\n",
        "import numpy as np\n",
        "from tabulate import tabulate\n",
        "\n",
        "\n",
        "def forward_diff(x, y):\n",
        "  \n",
        "    # Compute the step size h\n",
        "    h = x[1] - x[0]\n",
        "    data=[]\n",
        "    \n",
        "    # Compute the forward difference approximation\n",
        "    fdf = np.zeros_like(y)\n",
        "    fdf[-1] = (y[-1] - y[-2]) / h  # use backward difference at the end point\n",
        "    for i in range(len(y) - 1):\n",
        "        fdf[i] = (y[i+1] - y[i]) / h\n",
        "        data.append([x[i],y[i],fdf[i]])\n",
        "    data.append([x[-1],y[-1],fdf[-1]])\n",
        "    \n",
        "    print(tabulate(data,headers=['x','f(x)','df(x)/dx'],tablefmt=\"github\"))\n",
        "    \n",
        "    return"
      ],
      "metadata": {
        "id": "0hrO5vGDPdH2"
      },
      "execution_count": null,
      "outputs": []
    },
    {
      "cell_type": "code",
      "source": [
        "# example to run above code\n",
        "x=[0.2,0.4,0.6,0.8]\n",
        "y=[3,3.9,3.98,4.2]\n",
        "forward_diff(x, y)"
      ],
      "metadata": {
        "id": "ZsIe3CBW4dND"
      },
      "execution_count": null,
      "outputs": []
    },
    {
      "cell_type": "markdown",
      "source": [
        "**Task 2: Write a code for Backward difference approximation (apply forward difference approximation on first point)**"
      ],
      "metadata": {
        "id": "awmdLwQwhjwq"
      }
    },
    {
      "cell_type": "code",
      "source": [
        "def backward_difference(x, y):\n",
        "    \n",
        "    h = x[1] - x[0]\n",
        "    data = []\n",
        "    \n",
        "    bdf = np.zeros_like(y)\n",
        "    bdf[0] = (y[1] - y[0]) / h\n",
        "    data.append([x[0], y[0], bdf[0]])\n",
        "    for i in range(1, len(y), 1):\n",
        "        bdf[i] = (y[i] - y[i-1]) / h\n",
        "        data.append([x[i], y[i], bdf[i]])\n",
        "    \n",
        "    print(tabulate(data, headers=['x', 'f(x)', 'df(x)/dx'], tablefmt=\"github\"))\n",
        "    \n",
        "    return bdf\n",
        "\n",
        "x=[0.1,0.2,0.3,0.4]\n",
        "y=[1.5,1.75,2.00,2.25]\n",
        "print(\"Backward Difference Approximation\")\n",
        "backward_difference(x, y)"
      ],
      "metadata": {
        "id": "DizB2T97Kkt0"
      },
      "execution_count": null,
      "outputs": []
    },
    {
      "cell_type": "markdown",
      "source": [
        "### **Code of three point endpoint and three point midpoint formula**\n",
        "### Three-Point Endpoint Formula\n",
        "• $f'(x_0) =\\dfrac{−3f(x_0) + 4f(x_0 + h) - f (x_0 + 2h)}{2h}$\n",
        "### Three-Point Midpoint Formula\n",
        "• $f'(x_0) =\\dfrac{f(x_0+h)-f(x_0-h)}{2h}$"
      ],
      "metadata": {
        "id": "yYBxb8ZC2r_I"
      }
    },
    {
      "cell_type": "code",
      "source": [
        "# code for three point endpoint and three point midpoint formulae for finding f'(x) for an array of x and f(x).\n",
        "import numpy as np\n",
        "\n",
        "def three_point(x, y):\n",
        "  \n",
        "    # Compute the step size h\n",
        "    data=[]\n",
        "    h = x[1] - x[0]\n",
        "    \n",
        "    # Compute the forward difference approximation\n",
        "    tp = np.zeros_like(y)\n",
        "    tp[0]=(-3*y[0]+4*y[1]-y[2])/(2*h) #three point endpoint (left end) formula\n",
        "    tp[-1]=(3*y[-1]-4*y[-2]+y[-3])/(2*h) #three point endpoint (right end) formula\n",
        "\n",
        "    data.append([x[0],y[0],tp[0]])\n",
        "    for i in range(1,len(y)-1):\n",
        "        tp[i] = (y[i+1] - y[i-1]) / (2*h)\n",
        "        data.append([x[i],y[i],tp[i]])\n",
        "    data.append([x[-1],y[-1],tp[-1]])\n",
        "\n",
        "    print(tabulate(data,headers=['x','f(x)','df(x)/dx'],tablefmt=\"github\"))\n",
        "    \n",
        "    \n",
        "    return"
      ],
      "metadata": {
        "id": "zJf2FB865b8C"
      },
      "execution_count": null,
      "outputs": []
    },
    {
      "cell_type": "code",
      "source": [
        "# example to run above code\n",
        "x=[0.2,0.4,0.6,0.8]\n",
        "y=[3,3.9,3.98,4.2]\n",
        "three_point(x, y)"
      ],
      "metadata": {
        "id": "ZUjr9Q1d7n9j"
      },
      "execution_count": null,
      "outputs": []
    },
    {
      "cell_type": "markdown",
      "source": [
        "**Task 3: \n",
        "Make a code for five point endpoint and midpoint formulae where possible in given table.**:\n"
      ],
      "metadata": {
        "id": "TTIACjqA9Imu"
      }
    },
    {
      "cell_type": "code",
      "source": [
        "def fivePoint(x, y):\n",
        "    if len(x) < 5:\n",
        "      raise Exception(\"Less than five points given\")\n",
        "    # Compute the step size h\n",
        "    data=[]\n",
        "    h = x[1] - x[0]\n",
        "    \n",
        "    # Compute the forward difference approximation\n",
        "    tp = np.zeros_like(y)\n",
        "    tp[0]=(-25*y[0]+48*y[1]-36*y[2]+16*y[3]-3*y[4])/(12*h) #five point endpoint (left end) formula\n",
        "    tp[-1]=(25*y[-1]-48*y[-2]+36*y[-3]-16*y[-4]+3*y[-5])/(12*h) #five point endpoint (right end) formula\n",
        "    data.append([x[0],y[0],tp[0]])\n",
        "    midpoint=int((0+len(x))/2)\n",
        "    \n",
        "    for i in range(1,midpoint):\n",
        "          tp[i] = (y[i+1] - y[i-1]) / (2*h)\n",
        "          data.append([x[i],y[i],tp[i]])\n",
        "    tp[midpoint] = (y[0] - 8*y[1] + 8*y[3] - y[4]) / (12*h)\n",
        "    data.append([x[2],y[2],tp[2]])\n",
        "    \n",
        "    for i in range(midpoint+1,len(x)-1):\n",
        "          tp[i] = (y[i+1] - y[i-1]) / (2*h)\n",
        "          data.append([x[i],y[i],tp[i]])\n",
        "    data.append([x[-1],y[-1],tp[-1]])\n",
        "\n",
        "    print(tabulate(data,headers=['x','f(x)','df(x)/dx'],tablefmt=\"github\"))\n",
        "    return\n",
        "\n",
        "x=[0.2,0.4,0.6,0.8,5.5]\n",
        "y=[3,3.9,3.98,4.2,2.7]\n",
        "fivePoint(x, y)"
      ],
      "metadata": {
        "id": "ONfwE_A1L1eB"
      },
      "execution_count": null,
      "outputs": []
    },
    {
      "cell_type": "markdown",
      "source": [
        "## **How to take integral in python**"
      ],
      "metadata": {
        "id": "JYP-eo1zrqyp"
      }
    },
    {
      "cell_type": "code",
      "source": [
        "x = symbols('x')   #Make x a symbol  \n",
        "f = 2*x/(x**2-4)      #Function to take integrate\n",
        "\n",
        "I_actual = float(integrate(f, (x,1,1.6)))    #integrate(f,(x,l,u)) is used to take integral of f from l to u\n",
        "print(I_actual)\n",
        "\n",
        "\n"
      ],
      "metadata": {
        "id": "BJi5q9oxrz-C"
      },
      "execution_count": null,
      "outputs": []
    },
    {
      "cell_type": "markdown",
      "source": [
        "##**Numerical Integration by using Composite Trapezoidal rule**\n",
        "### Trapezoid Rule\n",
        "$$\\int_a^b f(x) dx \\approx \\frac{h}{2}[f(a)+ \\sum_{i=1}^{n-1} {f(x_i)}+f(b)]$$\n"
      ],
      "metadata": {
        "id": "2589Pkzws41z"
      }
    },
    {
      "cell_type": "code",
      "source": [
        "def comp_trapezoidal_rule(f, a, b, n=1):  #n=1 indicates simple trpezoidal rule\n",
        "    h = (b - a) / n\n",
        "    x = [a + i*h for i in range(n+1)]\n",
        "    y = [f(xi) for xi in x]\n",
        "    s = sum(y[1:-1])\n",
        "    ans=h/2 * (y[0] + 2*s + y[-1])\n",
        "    return ans"
      ],
      "metadata": {
        "id": "rGd7hwUVwe_5"
      },
      "execution_count": null,
      "outputs": []
    },
    {
      "cell_type": "code",
      "source": [
        "\n",
        "#Example for simple and composite Trapezoidal\n",
        "def f(x):\n",
        "  return(2*x/(x**2-4))\n",
        "\n",
        "strap=comp_trapezoidal_rule(f,1,1.6)\n",
        "print(strap) # gives ans of simple trapezoidal rule\n",
        "ctrap=comp_trapezoidal_rule(f,1,1.6,4)\n",
        "print(ctrap) # gives ans of composite trapezoidal rule with n=4"
      ],
      "metadata": {
        "id": "hfmb7T-vw_3d"
      },
      "execution_count": null,
      "outputs": []
    },
    {
      "cell_type": "markdown",
      "source": [
        "**Computing Actual Error for simple and composite trapezoidal rules**\n",
        "\n",
        "\n"
      ],
      "metadata": {
        "id": "4NxU7C5XzpzL"
      }
    },
    {
      "cell_type": "code",
      "source": [
        "print(I_actual-strap)\n",
        "print(I_actual-ctrap)"
      ],
      "metadata": {
        "id": "zyB5RzwG0Hmd"
      },
      "execution_count": null,
      "outputs": []
    },
    {
      "cell_type": "markdown",
      "source": [
        "###**For calculating SimpleTrapezoidal error bound**\n",
        "\n",
        "Working for Question no 3e Exercise 4.3\n",
        "\n"
      ],
      "metadata": {
        "id": "KPKtpCyyjRNY"
      }
    },
    {
      "cell_type": "code",
      "source": [
        "from sympy import* #Call Library of sympy\n",
        "x = symbols('x')\n",
        "f=2*x/(x**2-4)\n",
        "\n",
        "def Error_bound_trap(f,l,u):#l is the lower limit and u is the upper limit of integral\n",
        "   ddf = diff(f, x,2)    #Evaluating second derivative of f\n",
        "   abs_max_ddf=max(abs(ddf.subs(x,l)),abs(ddf.subs(x,u)))\n",
        "   h=u-l\n",
        "   Error_bound=h**3*abs_max_ddf/12\n",
        "   return (Error_bound,abs_max_ddf)"
      ],
      "metadata": {
        "id": "wAimSO_XjYa2"
      },
      "execution_count": null,
      "outputs": []
    },
    {
      "cell_type": "code",
      "source": [
        "Error_bound_trap(f,1,1.6)"
      ],
      "metadata": {
        "id": "cBsX-Hd2k_nK"
      },
      "execution_count": null,
      "outputs": []
    },
    {
      "cell_type": "markdown",
      "source": [
        "**Task 4: Make a code of composite simpson's 1/3rd rule (set n=2 for simple simpson and raise exception when user enters n=odd value) and run on f(x) mentioned in exercise # 4.3, Question #5c and excercise # 4.4, Question 3e**"
      ],
      "metadata": {
        "id": "mrdwAZMKoUp8"
      }
    },
    {
      "cell_type": "code",
      "source": [
        "def f(x):\n",
        "  return(x**2*ln(x))\n",
        "def f1(x):\n",
        "  return (exp(2*x)*sin(3*x))  \n",
        "  \n",
        "def simp_rule(f, a, b, n): \n",
        "  if n%2 != 0:\n",
        "   raise Exception(\"n is an odd number\")\n",
        "  h=(b-a)/n\n",
        "  x=[a+i*h for i in range(n+1)]\n",
        "  y=[f(xi) for xi in x]\n",
        "  f1 = y[0] + y[-1]\n",
        "  for i in range(1,n):\n",
        "    if i%2==0:\n",
        "       f1 = f1 + 2*y[i]\n",
        "    else:\n",
        "       f1 = f1 + 4*y[i]\n",
        "  f1= f1 * h/3 \n",
        "  return f1"
      ],
      "metadata": {
        "id": "QTKix1PAMnjZ"
      },
      "execution_count": null,
      "outputs": []
    },
    {
      "cell_type": "markdown",
      "source": [
        "# Exercise # 4.3 Q5(c)"
      ],
      "metadata": {
        "id": "PUjSiwoTOUwO"
      }
    },
    {
      "cell_type": "code",
      "source": [
        "#n=2\n",
        "simp=simp_rule(f, 1, 1.5,2) # simple sinmpson 1/3 rule\n",
        "print(simp) \n",
        "#n=4\n",
        "comp=simp_rule(f,1,1.5,4)# composite simpson 1/3 rule \n",
        "print(comp) \n",
        "\n",
        "x = symbols('x')   \n",
        "f = x**2*ln(x)    \n",
        "I_actual = float(integrate(f, (x,1,1.5)))   \n",
        "print(I_actual)\n",
        "print(I_actual-simp)\n",
        "print(I_actual-comp)"
      ],
      "metadata": {
        "id": "eDA92fUUNl1v"
      },
      "execution_count": null,
      "outputs": []
    },
    {
      "cell_type": "code",
      "source": [
        "x = symbols('x')   \n",
        "f = x**2*ln(x)    \n",
        "I_actual = float(integrate(f, (x,1,1.5)))   \n",
        "print(I_actual)\n",
        "print(I_actual-simp)\n",
        "print(I_actual-comp)"
      ],
      "metadata": {
        "id": "eBzNhVBpNmjo"
      },
      "execution_count": null,
      "outputs": []
    },
    {
      "cell_type": "markdown",
      "source": [
        "# Exercise # 4.4 Q3(e)"
      ],
      "metadata": {
        "id": "Zp78PAt2OaJb"
      }
    },
    {
      "cell_type": "code",
      "source": [
        "simp=simp_rule(f1, 0, 2,2)\n",
        "print(simp) #simple simpson 1/3 rule\n",
        "comp=simp_rule(f1,0,2,8)\n",
        "print(comp) #composite simpson 1/3 rule with n=8\n",
        "\n",
        "x = symbols('x')   \n",
        "f = exp(2*x)*sin(3*x) \n",
        "\n",
        "I_actual = float(integrate(f, (x,0,2))) \n",
        "print(I_actual)\n",
        "print(I_actual-simp)\n",
        "print(I_actual-comp)"
      ],
      "metadata": {
        "id": "c9FpA74-OvG1"
      },
      "execution_count": null,
      "outputs": []
    },
    {
      "cell_type": "markdown",
      "source": [
        "**For calculating simple Simpson's 1/3rd rule error bound**"
      ],
      "metadata": {
        "id": "swshrTqlqB-J"
      }
    },
    {
      "cell_type": "code",
      "source": [
        "from sympy import* #Call Library of sympy\n",
        "x = symbols('x')   #Make x a symbol  \n",
        "f = x**4       #Define your function here in 'x'\n",
        "def Error_bound_simp(f,l,u):#l is the lower limit and u is the upper limit of integral\n",
        "   d4f = diff(f, x,4)    #Evaluating second derivative of f\n",
        "   abs_max_ddf=max(abs(d4f.subs(x,l)),abs(d4f.subs(x,u)))\n",
        "   h=(u-l)/2\n",
        "   Error_bound=h**5*abs_max_ddf/90\n",
        "   return(Error_bound,abs_max_ddf)"
      ],
      "metadata": {
        "id": "348kqnklnEAj"
      },
      "execution_count": null,
      "outputs": []
    },
    {
      "cell_type": "markdown",
      "source": [
        "**Task 5: Find Error bound for Exercise 4.3 Qno 7 part(a) and (b)**"
      ],
      "metadata": {
        "id": "EQsQbBetMvlK"
      }
    },
    {
      "cell_type": "markdown",
      "source": [
        "# Exercise # 4.3 Q7(a)"
      ],
      "metadata": {
        "id": "TKoUrN2lPHrb"
      }
    },
    {
      "cell_type": "code",
      "source": [
        "x = symbols('x')  \n",
        "f = x**4\n",
        "def errorBoundSimp(f,l,u):\n",
        "    d4f = diff(f, x,4)\n",
        "    abs_max_ddf=max(abs(d4f.subs(x,l)),abs(d4f.subs(x,u)))\n",
        "    h=(u-l)/2\n",
        "    Error_bound=h**5*abs_max_ddf/90\n",
        "    return(Error_bound,abs_max_ddf)\n",
        "\n",
        "errorBoundSimp(f,0.5,1)"
      ],
      "metadata": {
        "id": "I7QdaN_SPQ7t"
      },
      "execution_count": null,
      "outputs": []
    },
    {
      "cell_type": "markdown",
      "source": [
        "#Exercise # 4.3 Q7(b)"
      ],
      "metadata": {
        "id": "SDKOTQz6Plou"
      }
    },
    {
      "cell_type": "code",
      "source": [
        "x = symbols('x')\n",
        "f = 2/(x-4)\n",
        "def errorBoundSimp(f,l,u):\n",
        "    d4f = diff(f, x,4)\n",
        "    abs_max_ddf=max(abs(d4f.subs(x,l)),abs(d4f.subs(x,u)))\n",
        "    h=(u-l)/2\n",
        "    Error_bound=h**5*abs_max_ddf/90\n",
        "    return(Error_bound,abs_max_ddf)\n",
        "\n",
        "errorBoundSimp(f,0,0.5)"
      ],
      "metadata": {
        "id": "2oj2InQWPlPI"
      },
      "execution_count": null,
      "outputs": []
    }
  ]
}