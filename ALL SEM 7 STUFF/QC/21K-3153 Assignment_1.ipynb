{
  "nbformat": 4,
  "nbformat_minor": 0,
  "metadata": {
    "colab": {
      "provenance": []
    },
    "kernelspec": {
      "name": "python3",
      "display_name": "Python 3"
    },
    "language_info": {
      "name": "python"
    }
  },
  "cells": [
    {
      "cell_type": "code",
      "execution_count": 2,
      "metadata": {
        "id": "FX9SloRVHVDN",
        "colab": {
          "base_uri": "https://localhost:8080/"
        },
        "outputId": "685d3062-b7ac-497e-b10a-24d192d972c7"
      },
      "outputs": [
        {
          "output_type": "stream",
          "name": "stdout",
          "text": [
            "Collecting qiskit\n",
            "  Downloading qiskit-1.2.0-cp38-abi3-manylinux_2_17_x86_64.manylinux2014_x86_64.whl.metadata (12 kB)\n",
            "Collecting rustworkx>=0.15.0 (from qiskit)\n",
            "  Downloading rustworkx-0.15.1-cp38-abi3-manylinux_2_17_x86_64.manylinux2014_x86_64.whl.metadata (9.9 kB)\n",
            "Requirement already satisfied: numpy<3,>=1.17 in /usr/local/lib/python3.10/dist-packages (from qiskit) (1.26.4)\n",
            "Requirement already satisfied: scipy>=1.5 in /usr/local/lib/python3.10/dist-packages (from qiskit) (1.13.1)\n",
            "Requirement already satisfied: sympy>=1.3 in /usr/local/lib/python3.10/dist-packages (from qiskit) (1.13.2)\n",
            "Collecting dill>=0.3 (from qiskit)\n",
            "  Downloading dill-0.3.8-py3-none-any.whl.metadata (10 kB)\n",
            "Requirement already satisfied: python-dateutil>=2.8.0 in /usr/local/lib/python3.10/dist-packages (from qiskit) (2.8.2)\n",
            "Collecting stevedore>=3.0.0 (from qiskit)\n",
            "  Downloading stevedore-5.3.0-py3-none-any.whl.metadata (2.3 kB)\n",
            "Requirement already satisfied: typing-extensions in /usr/local/lib/python3.10/dist-packages (from qiskit) (4.12.2)\n",
            "Collecting symengine>=0.11 (from qiskit)\n",
            "  Downloading symengine-0.11.0-cp310-cp310-manylinux_2_12_x86_64.manylinux2010_x86_64.whl.metadata (1.2 kB)\n",
            "Requirement already satisfied: six>=1.5 in /usr/local/lib/python3.10/dist-packages (from python-dateutil>=2.8.0->qiskit) (1.16.0)\n",
            "Collecting pbr>=2.0.0 (from stevedore>=3.0.0->qiskit)\n",
            "  Downloading pbr-6.1.0-py2.py3-none-any.whl.metadata (3.4 kB)\n",
            "Requirement already satisfied: mpmath<1.4,>=1.1.0 in /usr/local/lib/python3.10/dist-packages (from sympy>=1.3->qiskit) (1.3.0)\n",
            "Downloading qiskit-1.2.0-cp38-abi3-manylinux_2_17_x86_64.manylinux2014_x86_64.whl (4.8 MB)\n",
            "\u001b[2K   \u001b[90m━━━━━━━━━━━━━━━━━━━━━━━━━━━━━━━━━━━━━━━━\u001b[0m \u001b[32m4.8/4.8 MB\u001b[0m \u001b[31m43.3 MB/s\u001b[0m eta \u001b[36m0:00:00\u001b[0m\n",
            "\u001b[?25hDownloading dill-0.3.8-py3-none-any.whl (116 kB)\n",
            "\u001b[2K   \u001b[90m━━━━━━━━━━━━━━━━━━━━━━━━━━━━━━━━━━━━━━━━\u001b[0m \u001b[32m116.3/116.3 kB\u001b[0m \u001b[31m7.5 MB/s\u001b[0m eta \u001b[36m0:00:00\u001b[0m\n",
            "\u001b[?25hDownloading rustworkx-0.15.1-cp38-abi3-manylinux_2_17_x86_64.manylinux2014_x86_64.whl (2.0 MB)\n",
            "\u001b[2K   \u001b[90m━━━━━━━━━━━━━━━━━━━━━━━━━━━━━━━━━━━━━━━━\u001b[0m \u001b[32m2.0/2.0 MB\u001b[0m \u001b[31m50.4 MB/s\u001b[0m eta \u001b[36m0:00:00\u001b[0m\n",
            "\u001b[?25hDownloading stevedore-5.3.0-py3-none-any.whl (49 kB)\n",
            "\u001b[2K   \u001b[90m━━━━━━━━━━━━━━━━━━━━━━━━━━━━━━━━━━━━━━━━\u001b[0m \u001b[32m49.7/49.7 kB\u001b[0m \u001b[31m2.9 MB/s\u001b[0m eta \u001b[36m0:00:00\u001b[0m\n",
            "\u001b[?25hDownloading symengine-0.11.0-cp310-cp310-manylinux_2_12_x86_64.manylinux2010_x86_64.whl (39.4 MB)\n",
            "\u001b[2K   \u001b[90m━━━━━━━━━━━━━━━━━━━━━━━━━━━━━━━━━━━━━━━━\u001b[0m \u001b[32m39.4/39.4 MB\u001b[0m \u001b[31m14.8 MB/s\u001b[0m eta \u001b[36m0:00:00\u001b[0m\n",
            "\u001b[?25hDownloading pbr-6.1.0-py2.py3-none-any.whl (108 kB)\n",
            "\u001b[2K   \u001b[90m━━━━━━━━━━━━━━━━━━━━━━━━━━━━━━━━━━━━━━━━\u001b[0m \u001b[32m108.5/108.5 kB\u001b[0m \u001b[31m7.0 MB/s\u001b[0m eta \u001b[36m0:00:00\u001b[0m\n",
            "\u001b[?25hInstalling collected packages: symengine, rustworkx, pbr, dill, stevedore, qiskit\n",
            "Successfully installed dill-0.3.8 pbr-6.1.0 qiskit-1.2.0 rustworkx-0.15.1 stevedore-5.3.0 symengine-0.11.0\n"
          ]
        }
      ],
      "source": [
        "!pip install qiskit"
      ]
    },
    {
      "cell_type": "code",
      "source": [
        "!pip install qiskit_aer"
      ],
      "metadata": {
        "colab": {
          "base_uri": "https://localhost:8080/"
        },
        "id": "Id0qgU-4P54C",
        "outputId": "5d502112-0512-40f1-cfc9-34aae3f96ced"
      },
      "execution_count": 3,
      "outputs": [
        {
          "output_type": "stream",
          "name": "stdout",
          "text": [
            "Collecting qiskit_aer\n",
            "  Downloading qiskit_aer-0.15.0-cp310-cp310-manylinux_2_17_x86_64.manylinux2014_x86_64.whl.metadata (8.0 kB)\n",
            "Requirement already satisfied: qiskit>=1.1.0 in /usr/local/lib/python3.10/dist-packages (from qiskit_aer) (1.2.0)\n",
            "Requirement already satisfied: numpy>=1.16.3 in /usr/local/lib/python3.10/dist-packages (from qiskit_aer) (1.26.4)\n",
            "Requirement already satisfied: scipy>=1.0 in /usr/local/lib/python3.10/dist-packages (from qiskit_aer) (1.13.1)\n",
            "Requirement already satisfied: psutil>=5 in /usr/local/lib/python3.10/dist-packages (from qiskit_aer) (5.9.5)\n",
            "Requirement already satisfied: rustworkx>=0.15.0 in /usr/local/lib/python3.10/dist-packages (from qiskit>=1.1.0->qiskit_aer) (0.15.1)\n",
            "Requirement already satisfied: sympy>=1.3 in /usr/local/lib/python3.10/dist-packages (from qiskit>=1.1.0->qiskit_aer) (1.13.2)\n",
            "Requirement already satisfied: dill>=0.3 in /usr/local/lib/python3.10/dist-packages (from qiskit>=1.1.0->qiskit_aer) (0.3.8)\n",
            "Requirement already satisfied: python-dateutil>=2.8.0 in /usr/local/lib/python3.10/dist-packages (from qiskit>=1.1.0->qiskit_aer) (2.8.2)\n",
            "Requirement already satisfied: stevedore>=3.0.0 in /usr/local/lib/python3.10/dist-packages (from qiskit>=1.1.0->qiskit_aer) (5.3.0)\n",
            "Requirement already satisfied: typing-extensions in /usr/local/lib/python3.10/dist-packages (from qiskit>=1.1.0->qiskit_aer) (4.12.2)\n",
            "Requirement already satisfied: symengine>=0.11 in /usr/local/lib/python3.10/dist-packages (from qiskit>=1.1.0->qiskit_aer) (0.11.0)\n",
            "Requirement already satisfied: six>=1.5 in /usr/local/lib/python3.10/dist-packages (from python-dateutil>=2.8.0->qiskit>=1.1.0->qiskit_aer) (1.16.0)\n",
            "Requirement already satisfied: pbr>=2.0.0 in /usr/local/lib/python3.10/dist-packages (from stevedore>=3.0.0->qiskit>=1.1.0->qiskit_aer) (6.1.0)\n",
            "Requirement already satisfied: mpmath<1.4,>=1.1.0 in /usr/local/lib/python3.10/dist-packages (from sympy>=1.3->qiskit>=1.1.0->qiskit_aer) (1.3.0)\n",
            "Downloading qiskit_aer-0.15.0-cp310-cp310-manylinux_2_17_x86_64.manylinux2014_x86_64.whl (12.3 MB)\n",
            "\u001b[2K   \u001b[90m━━━━━━━━━━━━━━━━━━━━━━━━━━━━━━━━━━━━━━━━\u001b[0m \u001b[32m12.3/12.3 MB\u001b[0m \u001b[31m17.3 MB/s\u001b[0m eta \u001b[36m0:00:00\u001b[0m\n",
            "\u001b[?25hInstalling collected packages: qiskit_aer\n",
            "Successfully installed qiskit_aer-0.15.0\n"
          ]
        }
      ]
    },
    {
      "cell_type": "code",
      "source": [
        "from qiskit import QuantumCircuit\n",
        "from qiskit.visualization import plot_histogram\n",
        "qc = QuantumCircuit(1, 1)\n",
        "qc.x(0)\n",
        "qc.measure(0,0) # measures the 0 qubits into the 0 bits\n",
        "qc.draw()"
      ],
      "metadata": {
        "colab": {
          "base_uri": "https://localhost:8080/",
          "height": 94
        },
        "id": "PtBVAoM8PWF0",
        "outputId": "c8cc4c36-fa7e-4d62-c6b9-8c083b2b670b"
      },
      "execution_count": 4,
      "outputs": [
        {
          "output_type": "execute_result",
          "data": {
            "text/plain": [
              "     ┌───┐┌─┐\n",
              "  q: ┤ X ├┤M├\n",
              "     └───┘└╥┘\n",
              "c: 1/══════╩═\n",
              "           0 "
            ],
            "text/html": [
              "<pre style=\"word-wrap: normal;white-space: pre;background: #fff0;line-height: 1.1;font-family: &quot;Courier New&quot;,Courier,monospace\">     ┌───┐┌─┐\n",
              "  q: ┤ X ├┤M├\n",
              "     └───┘└╥┘\n",
              "c: 1/══════╩═\n",
              "           0 </pre>"
            ]
          },
          "metadata": {},
          "execution_count": 4
        }
      ]
    },
    {
      "cell_type": "code",
      "source": [
        "from qiskit_aer import Aer\n",
        "sim = Aer.get_backend('qasm_simulator')\n",
        "result = sim.run(qc).result()\n",
        "answer = result.get_counts()\n",
        "plot_histogram(answer)"
      ],
      "metadata": {
        "colab": {
          "base_uri": "https://localhost:8080/",
          "height": 429
        },
        "id": "MSalNSyhPZ39",
        "outputId": "a4d19dfa-8f61-4926-d7f5-7979c0efd005"
      },
      "execution_count": 5,
      "outputs": [
        {
          "output_type": "execute_result",
          "data": {
            "text/plain": [
              "<Figure size 640x480 with 1 Axes>"
            ],
            "image/png": "[encoded data removed]"
          },
          "metadata": {},
          "execution_count": 5
        }
      ]
    },
    {
      "cell_type": "code",
      "source": [
        "from qiskit import QuantumRegister, ClassicalRegister, QuantumCircuit\n",
        "from numpy import pi\n",
        "\n",
        "qreg_q = QuantumRegister(2, 'q')\n",
        "creg_c = ClassicalRegister(2, 'c')\n",
        "circuit = QuantumCircuit(qreg_q, creg_c)\n",
        "\n",
        "circuit.h(qreg_q[0])\n",
        "circuit.s(qreg_q[1])\n",
        "circuit.x(qreg_q[0])\n",
        "circuit.h(qreg_q[1])\n",
        "circuit.measure(qreg_q[0], creg_c[0])  # Measure qubit 0 into classical bit 0\n",
        "circuit.draw()"
      ],
      "metadata": {
        "colab": {
          "base_uri": "https://localhost:8080/",
          "height": 125
        },
        "id": "R50XGW49-nty",
        "outputId": "80a9109e-1e05-4995-bbbf-234cc9164a27"
      },
      "execution_count": 6,
      "outputs": [
        {
          "output_type": "execute_result",
          "data": {
            "text/plain": [
              "     ┌───┐┌───┐┌─┐\n",
              "q_0: ┤ H ├┤ X ├┤M├\n",
              "     ├───┤├───┤└╥┘\n",
              "q_1: ┤ S ├┤ H ├─╫─\n",
              "     └───┘└───┘ ║ \n",
              "c: 2/═══════════╩═\n",
              "                0 "
            ],
            "text/html": [
              "<pre style=\"word-wrap: normal;white-space: pre;background: #fff0;line-height: 1.1;font-family: &quot;Courier New&quot;,Courier,monospace\">     ┌───┐┌───┐┌─┐\n",
              "q_0: ┤ H ├┤ X ├┤M├\n",
              "     ├───┤├───┤└╥┘\n",
              "q_1: ┤ S ├┤ H ├─╫─\n",
              "     └───┘└───┘ ║ \n",
              "c: 2/═══════════╩═\n",
              "                0 </pre>"
            ]
          },
          "metadata": {},
          "execution_count": 6
        }
      ]
    },
    {
      "cell_type": "code",
      "source": [
        "from qiskit_aer import Aer\n",
        "sim = Aer.get_backend('qasm_simulator')\n",
        "result = sim.run(circuit).result()\n",
        "answer = result.get_counts()\n",
        "plot_histogram(answer)"
      ],
      "metadata": {
        "colab": {
          "base_uri": "https://localhost:8080/",
          "height": 437
        },
        "id": "P9UkSKQR-uLy",
        "outputId": "4800133b-b74e-4cec-f37a-0b206e1a1a60"
      },
      "execution_count": 7,
      "outputs": [
        {
          "output_type": "execute_result",
          "data": {
            "text/plain": [
              "<Figure size 640x480 with 1 Axes>"
            ],
            "image/png": "[encoded data removed]"
          },
          "metadata": {},
          "execution_count": 7
        }
      ]
    },
    {
      "cell_type": "code",
      "source": [
        "from qiskit import QuantumRegister, ClassicalRegister, QuantumCircuit\n",
        "from numpy import pi\n",
        "\n",
        "qreg_q = QuantumRegister(2, 'q')\n",
        "creg_c = ClassicalRegister(2, 'c')\n",
        "circuit = QuantumCircuit(qreg_q, creg_c)\n",
        "\n",
        "circuit.h(qreg_q[0])\n",
        "circuit.s(qreg_q[1])\n",
        "circuit.x(qreg_q[0])\n",
        "circuit.h(qreg_q[1])\n",
        "circuit.measure(qreg_q[0], creg_c[0])  # Measure qubit 0 into classical bit 0\n",
        "circuit.measure(qreg_q[1], creg_c[1])  # Measure qubit 1 into classical bit 1\n",
        "\n",
        "circuit.draw()"
      ],
      "metadata": {
        "colab": {
          "base_uri": "https://localhost:8080/",
          "height": 125
        },
        "id": "huSwC-3-PsK-",
        "outputId": "58c65e51-00b1-4d29-e193-be6178aea9ee"
      },
      "execution_count": 8,
      "outputs": [
        {
          "output_type": "execute_result",
          "data": {
            "text/plain": [
              "     ┌───┐┌───┐┌─┐   \n",
              "q_0: ┤ H ├┤ X ├┤M├───\n",
              "     ├───┤├───┤└╥┘┌─┐\n",
              "q_1: ┤ S ├┤ H ├─╫─┤M├\n",
              "     └───┘└───┘ ║ └╥┘\n",
              "c: 2/═══════════╩══╩═\n",
              "                0  1 "
            ],
            "text/html": [
              "<pre style=\"word-wrap: normal;white-space: pre;background: #fff0;line-height: 1.1;font-family: &quot;Courier New&quot;,Courier,monospace\">     ┌───┐┌───┐┌─┐   \n",
              "q_0: ┤ H ├┤ X ├┤M├───\n",
              "     ├───┤├───┤└╥┘┌─┐\n",
              "q_1: ┤ S ├┤ H ├─╫─┤M├\n",
              "     └───┘└───┘ ║ └╥┘\n",
              "c: 2/═══════════╩══╩═\n",
              "                0  1 </pre>"
            ]
          },
          "metadata": {},
          "execution_count": 8
        }
      ]
    },
    {
      "cell_type": "code",
      "source": [
        "from qiskit_aer import Aer\n",
        "sim = Aer.get_backend('qasm_simulator')\n",
        "result = sim.run(circuit).result()\n",
        "answer = result.get_counts()\n",
        "plot_histogram(answer)"
      ],
      "metadata": {
        "colab": {
          "base_uri": "https://localhost:8080/",
          "height": 437
        },
        "id": "SLJG-nZFQsyN",
        "outputId": "52bc22ba-f78a-4f67-d237-60c14eb8abbe"
      },
      "execution_count": 9,
      "outputs": [
        {
          "output_type": "execute_result",
          "data": {
            "text/plain": [
              "<Figure size 640x480 with 1 Axes>"
            ],
            "image/png": "[encoded data removed]"
          },
          "metadata": {},
          "execution_count": 9
        }
      ]
    },
    {
      "cell_type": "markdown",
      "source": [
        "### Task 1 Part 5\n",
        "Design a quantum circuit that starts with a qubit in state ∣0⟩ and ends with the qubit in\n",
        "the state −∣1⟩. The circuit should only use X, H, and Z gates."
      ],
      "metadata": {
        "id": "eemeG1P89e_Y"
      }
    },
    {
      "cell_type": "code",
      "source": [
        "from qiskit import QuantumRegister, ClassicalRegister, QuantumCircuit\n",
        "from numpy import pi\n",
        "\n",
        "qreg_q = QuantumRegister(4, 'q')\n",
        "creg_c = ClassicalRegister(4, 'c')\n",
        "circuit = QuantumCircuit(qreg_q, creg_c)\n",
        "\n",
        "circuit.reset(qreg_q[0])\n",
        "circuit.x(qreg_q[0])\n",
        "circuit.z(qreg_q[0])\n",
        "circuit.measure(qreg_q[0], creg_c[0])\n",
        "circuit.draw()\n"
      ],
      "metadata": {
        "id": "0FsfmSWx-GAQ",
        "colab": {
          "base_uri": "https://localhost:8080/",
          "height": 186
        },
        "outputId": "af6e206b-d214-4f3d-c584-31c8db82892a"
      },
      "execution_count": 10,
      "outputs": [
        {
          "output_type": "execute_result",
          "data": {
            "text/plain": [
              "          ┌───┐┌───┐┌─┐\n",
              "q_0: ─|0>─┤ X ├┤ Z ├┤M├\n",
              "          └───┘└───┘└╥┘\n",
              "q_1: ────────────────╫─\n",
              "                     ║ \n",
              "q_2: ────────────────╫─\n",
              "                     ║ \n",
              "q_3: ────────────────╫─\n",
              "                     ║ \n",
              "c: 4/════════════════╩═\n",
              "                     0 "
            ],
            "text/html": [
              "<pre style=\"word-wrap: normal;white-space: pre;background: #fff0;line-height: 1.1;font-family: &quot;Courier New&quot;,Courier,monospace\">          ┌───┐┌───┐┌─┐\n",
              "q_0: ─|0>─┤ X ├┤ Z ├┤M├\n",
              "          └───┘└───┘└╥┘\n",
              "q_1: ────────────────╫─\n",
              "                     ║ \n",
              "q_2: ────────────────╫─\n",
              "                     ║ \n",
              "q_3: ────────────────╫─\n",
              "                     ║ \n",
              "c: 4/════════════════╩═\n",
              "                     0 </pre>"
            ]
          },
          "metadata": {},
          "execution_count": 10
        }
      ]
    },
    {
      "cell_type": "code",
      "source": [
        "sim = Aer.get_backend('qasm_simulator')\n",
        "result = sim.run(circuit).result()\n",
        "answer = result.get_counts()\n",
        "plot_histogram(answer)"
      ],
      "metadata": {
        "colab": {
          "base_uri": "https://localhost:8080/",
          "height": 454
        },
        "id": "qXNwMyuN-Hdc",
        "outputId": "b5e18a47-7802-4a8b-e3ae-62bb6dd4af29"
      },
      "execution_count": 11,
      "outputs": [
        {
          "output_type": "execute_result",
          "data": {
            "text/plain": [
              "<Figure size 640x480 with 1 Axes>"
            ],
            "image/png": "[encoded data removed]"
          },
          "metadata": {},
          "execution_count": 11
        }
      ]
    },
    {
      "cell_type": "markdown",
      "source": [
        "###Task 4 Q1"
      ],
      "metadata": {
        "id": "eisRCKwD-SUC"
      }
    },
    {
      "cell_type": "code",
      "source": [
        "from qiskit import QuantumRegister, ClassicalRegister, QuantumCircuit\n",
        "from numpy import pi\n",
        "\n",
        "qreg_q = QuantumRegister(4, 'q')\n",
        "creg_c = ClassicalRegister(4, 'c')\n",
        "circuit = QuantumCircuit(qreg_q, creg_c)\n",
        "\n",
        "circuit.reset(qreg_q[0])\n",
        "circuit.h(qreg_q[0])\n",
        "circuit.s(qreg_q[0])\n",
        "circuit.rx(pi / 6, qreg_q[0])\n",
        "circuit.measure(qreg_q[0], creg_c[0])\n",
        "circuit.draw()"
      ],
      "metadata": {
        "colab": {
          "base_uri": "https://localhost:8080/",
          "height": 186
        },
        "id": "jnA_4SDp-RIq",
        "outputId": "465f82bf-21e4-4cd1-9f76-d3f89bcc4c5a"
      },
      "execution_count": 12,
      "outputs": [
        {
          "output_type": "execute_result",
          "data": {
            "text/plain": [
              "          ┌───┐┌───┐┌─────────┐┌─┐\n",
              "q_0: ─|0>─┤ H ├┤ S ├┤ Rx(π/6) ├┤M├\n",
              "          └───┘└───┘└─────────┘└╥┘\n",
              "q_1: ───────────────────────────╫─\n",
              "                                ║ \n",
              "q_2: ───────────────────────────╫─\n",
              "                                ║ \n",
              "q_3: ───────────────────────────╫─\n",
              "                                ║ \n",
              "c: 4/═══════════════════════════╩═\n",
              "                                0 "
            ],
            "text/html": [
              "<pre style=\"word-wrap: normal;white-space: pre;background: #fff0;line-height: 1.1;font-family: &quot;Courier New&quot;,Courier,monospace\">          ┌───┐┌───┐┌─────────┐┌─┐\n",
              "q_0: ─|0>─┤ H ├┤ S ├┤ Rx(π/6) ├┤M├\n",
              "          └───┘└───┘└─────────┘└╥┘\n",
              "q_1: ───────────────────────────╫─\n",
              "                                ║ \n",
              "q_2: ───────────────────────────╫─\n",
              "                                ║ \n",
              "q_3: ───────────────────────────╫─\n",
              "                                ║ \n",
              "c: 4/═══════════════════════════╩═\n",
              "                                0 </pre>"
            ]
          },
          "metadata": {},
          "execution_count": 12
        }
      ]
    },
    {
      "cell_type": "code",
      "source": [
        "sim = Aer.get_backend('qasm_simulator')\n",
        "result = sim.run(circuit).result()\n",
        "answer = result.get_counts()\n",
        "plot_histogram(answer)"
      ],
      "metadata": {
        "colab": {
          "base_uri": "https://localhost:8080/",
          "height": 454
        },
        "id": "CR8XsKWW-OQa",
        "outputId": "103d7fc7-9965-4a87-8468-ac5100bae6c8"
      },
      "execution_count": 13,
      "outputs": [
        {
          "output_type": "execute_result",
          "data": {
            "text/plain": [
              "<Figure size 640x480 with 1 Axes>"
            ],
            "image/png": "[encoded data removed]"
          },
          "metadata": {},
          "execution_count": 13
        }
      ]
    },
    {
      "cell_type": "markdown",
      "source": [
        "###Task 4 Q2"
      ],
      "metadata": {
        "id": "-zAirNmXE_9f"
      }
    },
    {
      "cell_type": "code",
      "source": [
        "from qiskit import QuantumRegister, ClassicalRegister, QuantumCircuit\n",
        "from numpy import pi\n",
        "\n",
        "qreg_q = QuantumRegister(4, 'q')\n",
        "creg_c = ClassicalRegister(4, 'c')\n",
        "circuit = QuantumCircuit(qreg_q, creg_c)\n",
        "\n",
        "circuit.reset(qreg_q[0])\n",
        "circuit.h(qreg_q[0])\n",
        "circuit.ry(pi / 9, qreg_q[0])\n",
        "circuit.measure(qreg_q[0], creg_c[0])\n",
        "circuit.draw()"
      ],
      "metadata": {
        "colab": {
          "base_uri": "https://localhost:8080/",
          "height": 186
        },
        "id": "-qSl60IX_8gy",
        "outputId": "e05a0988-abda-406c-923b-6d9ee97aaddf"
      },
      "execution_count": 14,
      "outputs": [
        {
          "output_type": "execute_result",
          "data": {
            "text/plain": [
              "          ┌───┐┌─────────┐┌─┐\n",
              "q_0: ─|0>─┤ H ├┤ Ry(π/9) ├┤M├\n",
              "          └───┘└─────────┘└╥┘\n",
              "q_1: ──────────────────────╫─\n",
              "                           ║ \n",
              "q_2: ──────────────────────╫─\n",
              "                           ║ \n",
              "q_3: ──────────────────────╫─\n",
              "                           ║ \n",
              "c: 4/══════════════════════╩═\n",
              "                           0 "
            ],
            "text/html": [
              "<pre style=\"word-wrap: normal;white-space: pre;background: #fff0;line-height: 1.1;font-family: &quot;Courier New&quot;,Courier,monospace\">          ┌───┐┌─────────┐┌─┐\n",
              "q_0: ─|0>─┤ H ├┤ Ry(π/9) ├┤M├\n",
              "          └───┘└─────────┘└╥┘\n",
              "q_1: ──────────────────────╫─\n",
              "                           ║ \n",
              "q_2: ──────────────────────╫─\n",
              "                           ║ \n",
              "q_3: ──────────────────────╫─\n",
              "                           ║ \n",
              "c: 4/══════════════════════╩═\n",
              "                           0 </pre>"
            ]
          },
          "metadata": {},
          "execution_count": 14
        }
      ]
    },
    {
      "cell_type": "code",
      "source": [
        "sim = Aer.get_backend('qasm_simulator')\n",
        "result = sim.run(circuit).result()\n",
        "answer = result.get_counts()\n",
        "plot_histogram(answer)"
      ],
      "metadata": {
        "colab": {
          "base_uri": "https://localhost:8080/",
          "height": 454
        },
        "id": "ztghd2lSAtHB",
        "outputId": "c57d95c5-2a99-4973-ac86-f43ad5bb9072"
      },
      "execution_count": 15,
      "outputs": [
        {
          "output_type": "execute_result",
          "data": {
            "text/plain": [
              "<Figure size 640x480 with 1 Axes>"
            ],
            "image/png": "[encoded data removed]"
          },
          "metadata": {},
          "execution_count": 15
        }
      ]
    },
    {
      "cell_type": "markdown",
      "source": [
        "###Task 4 Q3\n"
      ],
      "metadata": {
        "id": "CysVh7bKFCEg"
      }
    },
    {
      "cell_type": "code",
      "source": [
        "from qiskit import QuantumRegister, ClassicalRegister, QuantumCircuit\n",
        "from numpy import pi\n",
        "\n",
        "qreg_q = QuantumRegister(4, 'q')\n",
        "creg_c = ClassicalRegister(4, 'c')\n",
        "circuit = QuantumCircuit(qreg_q, creg_c)\n",
        "\n",
        "circuit.reset(qreg_q[0])\n",
        "circuit.ry(pi / 4, qreg_q[0])\n",
        "circuit.t(qreg_q[0])\n",
        "circuit.measure(qreg_q[0], creg_c[0])\n",
        "circuit.draw()"
      ],
      "metadata": {
        "colab": {
          "base_uri": "https://localhost:8080/",
          "height": 186
        },
        "id": "EpTFDXDQFDiA",
        "outputId": "b836c714-30c6-4faa-8a3e-1ae3f97438e7"
      },
      "execution_count": 16,
      "outputs": [
        {
          "output_type": "execute_result",
          "data": {
            "text/plain": [
              "          ┌─────────┐┌───┐┌─┐\n",
              "q_0: ─|0>─┤ Ry(π/4) ├┤ T ├┤M├\n",
              "          └─────────┘└───┘└╥┘\n",
              "q_1: ──────────────────────╫─\n",
              "                           ║ \n",
              "q_2: ──────────────────────╫─\n",
              "                           ║ \n",
              "q_3: ──────────────────────╫─\n",
              "                           ║ \n",
              "c: 4/══════════════════════╩═\n",
              "                           0 "
            ],
            "text/html": [
              "<pre style=\"word-wrap: normal;white-space: pre;background: #fff0;line-height: 1.1;font-family: &quot;Courier New&quot;,Courier,monospace\">          ┌─────────┐┌───┐┌─┐\n",
              "q_0: ─|0>─┤ Ry(π/4) ├┤ T ├┤M├\n",
              "          └─────────┘└───┘└╥┘\n",
              "q_1: ──────────────────────╫─\n",
              "                           ║ \n",
              "q_2: ──────────────────────╫─\n",
              "                           ║ \n",
              "q_3: ──────────────────────╫─\n",
              "                           ║ \n",
              "c: 4/══════════════════════╩═\n",
              "                           0 </pre>"
            ]
          },
          "metadata": {},
          "execution_count": 16
        }
      ]
    },
    {
      "cell_type": "code",
      "source": [
        "sim = Aer.get_backend('qasm_simulator')\n",
        "result = sim.run(circuit).result()\n",
        "answer = result.get_counts()\n",
        "plot_histogram(answer)"
      ],
      "metadata": {
        "colab": {
          "base_uri": "https://localhost:8080/",
          "height": 454
        },
        "id": "csCd1rteFFZx",
        "outputId": "45fba4b5-ee1e-4e7a-8e39-5d5ecba6b649"
      },
      "execution_count": 17,
      "outputs": [
        {
          "output_type": "execute_result",
          "data": {
            "text/plain": [
              "<Figure size 640x480 with 1 Axes>"
            ],
            "image/png": "[encoded data removed]"
          },
          "metadata": {},
          "execution_count": 17
        }
      ]
    },
    {
      "cell_type": "markdown",
      "source": [
        "###Task 4 Q4"
      ],
      "metadata": {
        "id": "SKNiM-3HFKB4"
      }
    },
    {
      "cell_type": "code",
      "source": [
        "from qiskit import QuantumRegister, ClassicalRegister, QuantumCircuit\n",
        "from numpy import pi\n",
        "\n",
        "qreg_q = QuantumRegister(4, 'q')\n",
        "creg_c = ClassicalRegister(4, 'c')\n",
        "circuit = QuantumCircuit(qreg_q, creg_c)\n",
        "\n",
        "circuit.reset(qreg_q[0])\n",
        "circuit.ry(2 * pi / 3, qreg_q[0])\n",
        "circuit.rz(pi / 3, qreg_q[0])\n",
        "circuit.measure(qreg_q[0], creg_c[0])\n",
        "circuit.draw()"
      ],
      "metadata": {
        "colab": {
          "base_uri": "https://localhost:8080/",
          "height": 186
        },
        "id": "-N_DeLkLFJ1a",
        "outputId": "53dbbf08-ae65-42e6-fc05-e36e37f68d36"
      },
      "execution_count": 18,
      "outputs": [
        {
          "output_type": "execute_result",
          "data": {
            "text/plain": [
              "          ┌──────────┐┌─────────┐┌─┐\n",
              "q_0: ─|0>─┤ Ry(2π/3) ├┤ Rz(π/3) ├┤M├\n",
              "          └──────────┘└─────────┘└╥┘\n",
              "q_1: ─────────────────────────────╫─\n",
              "                                  ║ \n",
              "q_2: ─────────────────────────────╫─\n",
              "                                  ║ \n",
              "q_3: ─────────────────────────────╫─\n",
              "                                  ║ \n",
              "c: 4/═════════════════════════════╩═\n",
              "                                  0 "
            ],
            "text/html": [
              "<pre style=\"word-wrap: normal;white-space: pre;background: #fff0;line-height: 1.1;font-family: &quot;Courier New&quot;,Courier,monospace\">          ┌──────────┐┌─────────┐┌─┐\n",
              "q_0: ─|0>─┤ Ry(2π/3) ├┤ Rz(π/3) ├┤M├\n",
              "          └──────────┘└─────────┘└╥┘\n",
              "q_1: ─────────────────────────────╫─\n",
              "                                  ║ \n",
              "q_2: ─────────────────────────────╫─\n",
              "                                  ║ \n",
              "q_3: ─────────────────────────────╫─\n",
              "                                  ║ \n",
              "c: 4/═════════════════════════════╩═\n",
              "                                  0 </pre>"
            ]
          },
          "metadata": {},
          "execution_count": 18
        }
      ]
    },
    {
      "cell_type": "code",
      "source": [
        "sim = Aer.get_backend('qasm_simulator')\n",
        "result = sim.run(circuit).result()\n",
        "answer = result.get_counts()\n",
        "plot_histogram(answer)"
      ],
      "metadata": {
        "colab": {
          "base_uri": "https://localhost:8080/",
          "height": 454
        },
        "id": "E3jtW3JbGo9a",
        "outputId": "b2cf8d5e-66aa-47ea-bd13-3a4b47246861"
      },
      "execution_count": 19,
      "outputs": [
        {
          "output_type": "execute_result",
          "data": {
            "text/plain": [
              "<Figure size 640x480 with 1 Axes>"
            ],
            "image/png": "[encoded data removed]"
          },
          "metadata": {},
          "execution_count": 19
        }
      ]
    },
    {
      "cell_type": "markdown",
      "source": [
        "###Task 4 Q5"
      ],
      "metadata": {
        "id": "Y5PW6gyBGvaA"
      }
    },
    {
      "cell_type": "code",
      "source": [
        "from qiskit import QuantumRegister, ClassicalRegister, QuantumCircuit\n",
        "from numpy import pi\n",
        "\n",
        "qreg_q = QuantumRegister(4, 'q')\n",
        "creg_c = ClassicalRegister(4, 'c')\n",
        "circuit = QuantumCircuit(qreg_q, creg_c)\n",
        "\n",
        "circuit.reset(qreg_q[0])\n",
        "circuit.ry((pi / 2) + (pi / 4), qreg_q[0])\n",
        "circuit.rz(2 * pi / 3, qreg_q[0])\n",
        "circuit.measure(qreg_q[0], creg_c[0])\n",
        "circuit.draw()"
      ],
      "metadata": {
        "colab": {
          "base_uri": "https://localhost:8080/",
          "height": 186
        },
        "id": "jjkK-VtFGs-8",
        "outputId": "6046f204-aef1-4e28-b269-94a893738376"
      },
      "execution_count": 22,
      "outputs": [
        {
          "output_type": "execute_result",
          "data": {
            "text/plain": [
              "          ┌──────────┐┌──────────┐┌─┐\n",
              "q_0: ─|0>─┤ Ry(3π/4) ├┤ Rz(2π/3) ├┤M├\n",
              "          └──────────┘└──────────┘└╥┘\n",
              "q_1: ──────────────────────────────╫─\n",
              "                                   ║ \n",
              "q_2: ──────────────────────────────╫─\n",
              "                                   ║ \n",
              "q_3: ──────────────────────────────╫─\n",
              "                                   ║ \n",
              "c: 4/══════════════════════════════╩═\n",
              "                                   0 "
            ],
            "text/html": [
              "<pre style=\"word-wrap: normal;white-space: pre;background: #fff0;line-height: 1.1;font-family: &quot;Courier New&quot;,Courier,monospace\">          ┌──────────┐┌──────────┐┌─┐\n",
              "q_0: ─|0>─┤ Ry(3π/4) ├┤ Rz(2π/3) ├┤M├\n",
              "          └──────────┘└──────────┘└╥┘\n",
              "q_1: ──────────────────────────────╫─\n",
              "                                   ║ \n",
              "q_2: ──────────────────────────────╫─\n",
              "                                   ║ \n",
              "q_3: ──────────────────────────────╫─\n",
              "                                   ║ \n",
              "c: 4/══════════════════════════════╩═\n",
              "                                   0 </pre>"
            ]
          },
          "metadata": {},
          "execution_count": 22
        }
      ]
    },
    {
      "cell_type": "code",
      "source": [
        "sim = Aer.get_backend('qasm_simulator')\n",
        "result = sim.run(circuit).result()\n",
        "answer = result.get_counts()\n",
        "plot_histogram(answer)"
      ],
      "metadata": {
        "colab": {
          "base_uri": "https://localhost:8080/",
          "height": 454
        },
        "id": "fdZ_NWeQIEll",
        "outputId": "ad6e44d5-ee99-49d5-dea6-dd7f5f7bacbd"
      },
      "execution_count": 24,
      "outputs": [
        {
          "output_type": "execute_result",
          "data": {
            "text/plain": [
              "<Figure size 640x480 with 1 Axes>"
            ],
            "image/png": "[encoded data removed]"
          },
          "metadata": {},
          "execution_count": 24
        }
      ]
    }
  ]
}